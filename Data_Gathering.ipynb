{
  "nbformat": 4,
  "nbformat_minor": 0,
  "metadata": {
    "colab": {
      "provenance": []
    },
    "kernelspec": {
      "name": "python3",
      "display_name": "Python 3"
    },
    "language_info": {
      "name": "python"
    }
  },
  "cells": [
    {
      "cell_type": "code",
      "execution_count": 5,
      "metadata": {
        "id": "CeBZQIMQZuBd"
      },
      "outputs": [],
      "source": [
        "import requests\n",
        "import pandas as pd\n",
        "import time\n",
        "\n",
        "# Kraken API URL\n",
        "API_URL = \"https://api.kraken.com/0/public/Ticker\"\n",
        "\n",
        "# List of at least 10 cryptocurrency pairs\n",
        "pairs = [\n",
        "    \"XETHZUSD\",  # Ethereum/USD\n",
        "    \"XXBTZUSD\",  # Bitcoin/USD\n",
        "    \"XLTCZUSD\",  # Litecoin/USD\n",
        "    \"XXRPZUSD\",  # Ripple/USD\n",
        "    \"ADAUSD\",    # Cardano/USD\n",
        "    \"DOGEUSD\",   # Dogecoin/USD\n",
        "    \"DOTUSD\",    # Polkadot/USD\n",
        "    \"SOLUSD\",    # Solana/USD\n",
        "    \"MATICUSD\",  # Polygon/USD\n",
        "    \"LINKUSD\"    # Chainlink/USD\n",
        "]\n",
        "\n",
        "def fetch_ticker_data(pairs):\n",
        "    \"\"\"Fetch real-time ticker data from Kraken API.\"\"\"\n",
        "    try:\n",
        "        pair_string = \",\".join(pairs)\n",
        "        response = requests.get(f\"{API_URL}?pair={pair_string}\")\n",
        "        data = response.json()\n",
        "        if \"error\" in data and data[\"error\"]:\n",
        "            print(\"API Error:\", data[\"error\"])\n",
        "            return None\n",
        "        return data[\"result\"]\n",
        "    except Exception as e:\n",
        "        print(\"Error fetching data:\", e)\n",
        "        return None\n"
      ]
    },
    {
      "cell_type": "code",
      "source": [
        "def process_ticker_data(data):\n",
        "    \"\"\"Process the raw API data into a structured format for CSV.\"\"\"\n",
        "    rows = []\n",
        "    for pair, details in data.items():\n",
        "        rows.append({\n",
        "            \"Pair\": pair,\n",
        "            \"High\": details[\"h\"][1],\n",
        "            \"Low\": details[\"l\"][1],\n",
        "            \"Last Price\": details[\"c\"][0],\n",
        "            \"Volume\": details[\"v\"][1],\n",
        "            \"Timestamp\": time.time()  # Store timestamp for reference\n",
        "        })\n",
        "    return rows\n"
      ],
      "metadata": {
        "id": "49Eqq1vDdP_g"
      },
      "execution_count": 6,
      "outputs": []
    },
    {
      "cell_type": "code",
      "source": [
        "def save_to_csv(data, filename=\"crypto_data.csv\"):\n",
        "    \"\"\"Save processed data to a CSV file.\"\"\"\n",
        "    df = pd.DataFrame(data)\n",
        "    try:\n",
        "        # Append data to the CSV file without overwriting\n",
        "        df.to_csv(filename, mode='a', header=not pd.io.common.file_exists(filename), index=False)\n",
        "    except Exception as e:\n",
        "        print(\"Error saving to CSV:\", e)\n"
      ],
      "metadata": {
        "id": "PV92NfqsdVDG"
      },
      "execution_count": 7,
      "outputs": []
    },
    {
      "cell_type": "code",
      "source": [
        "# Main loop to fetch, process, and save data periodically\n",
        "while True:\n",
        "    # Fetch data from the API\n",
        "    ticker_data = fetch_ticker_data(pairs)\n",
        "    if ticker_data:\n",
        "        # Process the data for CSV\n",
        "        processed_data = process_ticker_data(ticker_data)\n",
        "        # Save the data to CSV\n",
        "        save_to_csv(processed_data)\n",
        "        print(\"Data saved to CSV.\")\n",
        "\n",
        "    # Wait for 1 minute before the next fetch\n",
        "    time.sleep(60)"
      ],
      "metadata": {
        "colab": {
          "base_uri": "https://localhost:8080/",
          "height": 1000
        },
        "id": "aX_aHvGndXNc",
        "outputId": "44568e03-7634-49f5-a314-803aa8bf3983"
      },
      "execution_count": 10,
      "outputs": [
        {
          "output_type": "stream",
          "name": "stdout",
          "text": [
            "Data saved to CSV.\n",
            "Data saved to CSV.\n",
            "Data saved to CSV.\n",
            "Data saved to CSV.\n",
            "Data saved to CSV.\n",
            "Data saved to CSV.\n",
            "Data saved to CSV.\n",
            "Data saved to CSV.\n",
            "Data saved to CSV.\n",
            "Data saved to CSV.\n",
            "Data saved to CSV.\n",
            "Data saved to CSV.\n",
            "Data saved to CSV.\n",
            "Data saved to CSV.\n",
            "Data saved to CSV.\n",
            "Data saved to CSV.\n",
            "Data saved to CSV.\n",
            "Data saved to CSV.\n",
            "Data saved to CSV.\n",
            "Data saved to CSV.\n",
            "Data saved to CSV.\n",
            "Data saved to CSV.\n",
            "Data saved to CSV.\n",
            "Data saved to CSV.\n",
            "Data saved to CSV.\n",
            "Data saved to CSV.\n",
            "Data saved to CSV.\n",
            "Data saved to CSV.\n",
            "Data saved to CSV.\n",
            "Data saved to CSV.\n",
            "Data saved to CSV.\n",
            "Data saved to CSV.\n",
            "Data saved to CSV.\n",
            "Data saved to CSV.\n",
            "Data saved to CSV.\n",
            "Data saved to CSV.\n",
            "Data saved to CSV.\n",
            "Data saved to CSV.\n",
            "Data saved to CSV.\n",
            "Data saved to CSV.\n",
            "Data saved to CSV.\n",
            "Data saved to CSV.\n",
            "Data saved to CSV.\n",
            "Data saved to CSV.\n",
            "Data saved to CSV.\n",
            "Data saved to CSV.\n",
            "Data saved to CSV.\n",
            "Data saved to CSV.\n",
            "Data saved to CSV.\n",
            "Data saved to CSV.\n",
            "Data saved to CSV.\n",
            "Data saved to CSV.\n",
            "Data saved to CSV.\n",
            "Data saved to CSV.\n",
            "Data saved to CSV.\n",
            "Data saved to CSV.\n",
            "Data saved to CSV.\n",
            "Data saved to CSV.\n",
            "Data saved to CSV.\n",
            "Data saved to CSV.\n"
          ]
        },
        {
          "output_type": "error",
          "ename": "KeyboardInterrupt",
          "evalue": "",
          "traceback": [
            "\u001b[0;31m---------------------------------------------------------------------------\u001b[0m",
            "\u001b[0;31mKeyboardInterrupt\u001b[0m                         Traceback (most recent call last)",
            "\u001b[0;32m<ipython-input-10-f9d82c1c6bd6>\u001b[0m in \u001b[0;36m<cell line: 0>\u001b[0;34m()\u001b[0m\n\u001b[1;32m     11\u001b[0m \u001b[0;34m\u001b[0m\u001b[0m\n\u001b[1;32m     12\u001b[0m     \u001b[0;31m# Wait for 1 minute before the next fetch\u001b[0m\u001b[0;34m\u001b[0m\u001b[0;34m\u001b[0m\u001b[0m\n\u001b[0;32m---> 13\u001b[0;31m     \u001b[0mtime\u001b[0m\u001b[0;34m.\u001b[0m\u001b[0msleep\u001b[0m\u001b[0;34m(\u001b[0m\u001b[0;36m60\u001b[0m\u001b[0;34m)\u001b[0m\u001b[0;34m\u001b[0m\u001b[0;34m\u001b[0m\u001b[0m\n\u001b[0m",
            "\u001b[0;31mKeyboardInterrupt\u001b[0m: "
          ]
        }
      ]
    }
  ]
}