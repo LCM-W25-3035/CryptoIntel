{
 "cells": [
  {
   "cell_type": "code",
   "execution_count": 119,
   "metadata": {},
   "outputs": [],
   "source": [
    "import tensorflow as tf\n",
    "from tensorflow.keras.models import Sequential\n",
    "from tensorflow.keras.layers import LSTM, Dense, Dropout, Input, Bidirectional\n",
    "from tensorflow.keras.optimizers import Adam\n",
    "from tensorflow.keras.losses import Huber\n",
    "import keras_tuner as kt\n",
    "import numpy as np\n",
    "import pandas as pd\n",
    "import os\n",
    "import matplotlib.pyplot as plt\n",
    "from sklearn.preprocessing import MinMaxScaler\n",
    "from sklearn.metrics import mean_absolute_error, mean_squared_error, r2_score"
   ]
  },
  {
   "cell_type": "code",
   "execution_count": 120,
   "metadata": {},
   "outputs": [],
   "source": [
    "df = pd.read_csv(\"C:/Users/anand/Documents/Capstone Files Dump/Test case 1/processed_cryptodata.csv\")"
   ]
  },
  {
   "cell_type": "code",
   "execution_count": 121,
   "metadata": {},
   "outputs": [
    {
     "name": "stderr",
     "output_type": "stream",
     "text": [
      "C:\\Users\\anand\\AppData\\Local\\Temp\\ipykernel_41464\\1084214232.py:2: UserWarning:\n",
      "\n",
      "Parsing dates in %d/%m/%Y format when dayfirst=False (the default) was specified. Pass `dayfirst=True` or specify a format to silence this warning.\n",
      "\n"
     ]
    }
   ],
   "source": [
    "# Convert Timestamp to datetime\n",
    "df['Timestamp'] = pd.to_datetime(df['Timestamp'])\n"
   ]
  },
  {
   "cell_type": "code",
   "execution_count": 122,
   "metadata": {},
   "outputs": [
    {
     "data": {
      "text/plain": [
       "(7200, 25)"
      ]
     },
     "execution_count": 122,
     "metadata": {},
     "output_type": "execute_result"
    }
   ],
   "source": [
    "df.shape"
   ]
  },
  {
   "cell_type": "code",
   "execution_count": 123,
   "metadata": {},
   "outputs": [],
   "source": [
    "crypto = \"Bitcoin\""
   ]
  },
  {
   "cell_type": "code",
   "execution_count": 124,
   "metadata": {},
   "outputs": [],
   "source": [
    "# Selecting relevant columns for LSTM\n",
    "features = ['Open', 'High', 'Low', 'Volume', 'VWAP', 'Volatility', 'Price_Change', 'RSI', 'MACD',\n",
    "            'MA_7', 'MA_14', 'EMA_7', 'EMA_14', 'Rolling_Std_7', 'Rolling_Std_14',\n",
    "            'Day_of_Week', 'Month', 'Week_of_Year', 'Close_Lag_1', 'Close_Lag_2', 'Close_Lag_3']\n",
    "target = 'Close'"
   ]
  },
  {
   "cell_type": "code",
   "execution_count": 125,
   "metadata": {},
   "outputs": [],
   "source": [
    "crypto_df = df[df['Crypto'] == crypto].drop(columns=['Crypto']).dropna()"
   ]
  },
  {
   "cell_type": "code",
   "execution_count": 126,
   "metadata": {},
   "outputs": [
    {
     "data": {
      "text/plain": [
       "Timestamp           0\n",
       "Open                0\n",
       "High                0\n",
       "Low                 0\n",
       "Close               0\n",
       "VWAP                0\n",
       "Volume              0\n",
       "Count               0\n",
       "Crypto              0\n",
       "Volatility          0\n",
       "Price_Change        0\n",
       "RSI                 0\n",
       "MA_7                0\n",
       "MA_14               0\n",
       "Close_Lag_1        10\n",
       "Close_Lag_2        20\n",
       "Close_Lag_3        30\n",
       "Rolling_Std_7      60\n",
       "Rolling_Std_14    130\n",
       "EMA_7               0\n",
       "EMA_14              0\n",
       "MACD                0\n",
       "Day_of_Week         0\n",
       "Month               0\n",
       "Week_of_Year        0\n",
       "dtype: int64"
      ]
     },
     "execution_count": 126,
     "metadata": {},
     "output_type": "execute_result"
    }
   ],
   "source": [
    "df.isnull().sum()"
   ]
  },
  {
   "cell_type": "code",
   "execution_count": 127,
   "metadata": {},
   "outputs": [
    {
     "name": "stdout",
     "output_type": "stream",
     "text": [
      "Timestamp          0\n",
      "Open               0\n",
      "High               0\n",
      "Low                0\n",
      "Close              0\n",
      "VWAP               0\n",
      "Volume             0\n",
      "Count              0\n",
      "Crypto             0\n",
      "Volatility         0\n",
      "Price_Change       0\n",
      "RSI                0\n",
      "MA_7               0\n",
      "MA_14              0\n",
      "Close_Lag_1        1\n",
      "Close_Lag_2        2\n",
      "Close_Lag_3        3\n",
      "Rolling_Std_7      6\n",
      "Rolling_Std_14    13\n",
      "EMA_7              0\n",
      "EMA_14             0\n",
      "MACD               0\n",
      "Day_of_Week        0\n",
      "Month              0\n",
      "Week_of_Year       0\n",
      "dtype: int64\n"
     ]
    },
    {
     "name": "stderr",
     "output_type": "stream",
     "text": [
      "C:\\Users\\anand\\AppData\\Local\\Temp\\ipykernel_41464\\3877056832.py:1: FutureWarning:\n",
      "\n",
      "DataFrame.fillna with 'method' is deprecated and will raise in a future version. Use obj.ffill() or obj.bfill() instead.\n",
      "\n"
     ]
    }
   ],
   "source": [
    "df[['Close_Lag_1', 'Close_Lag_2', 'Close_Lag_3']] = df[['Close_Lag_1', 'Close_Lag_2', 'Close_Lag_3']].fillna(method='ffill')\n",
    "df[['Rolling_Std_7', 'Rolling_Std_14']] = df[['Rolling_Std_7', 'Rolling_Std_14']].interpolate(method='linear')\n",
    "\n",
    "print(df.isnull().sum())"
   ]
  },
  {
   "cell_type": "code",
   "execution_count": 128,
   "metadata": {},
   "outputs": [
    {
     "name": "stdout",
     "output_type": "stream",
     "text": [
      "Timestamp         0\n",
      "Open              0\n",
      "High              0\n",
      "Low               0\n",
      "Close             0\n",
      "VWAP              0\n",
      "Volume            0\n",
      "Count             0\n",
      "Crypto            0\n",
      "Volatility        0\n",
      "Price_Change      0\n",
      "RSI               0\n",
      "MA_7              0\n",
      "MA_14             0\n",
      "Close_Lag_1       0\n",
      "Close_Lag_2       0\n",
      "Close_Lag_3       0\n",
      "Rolling_Std_7     0\n",
      "Rolling_Std_14    0\n",
      "EMA_7             0\n",
      "EMA_14            0\n",
      "MACD              0\n",
      "Day_of_Week       0\n",
      "Month             0\n",
      "Week_of_Year      0\n",
      "dtype: int64\n",
      "Dataset size after dropping missing values: (7187, 25)\n"
     ]
    }
   ],
   "source": [
    "# 🚀 Drop Remaining Rows with Missing Values\n",
    "df.dropna(inplace=True)\n",
    "\n",
    "# ✅ Verify all missing values are gone\n",
    "print(df.isnull().sum())  # Should print all zeros\n",
    "\n",
    "# ✅ Check dataset size after dropping rows\n",
    "print(f\"Dataset size after dropping missing values: {df.shape}\")\n"
   ]
  },
  {
   "cell_type": "code",
   "execution_count": 54,
   "metadata": {},
   "outputs": [
    {
     "data": {
      "text/html": [
       "<div>\n",
       "<style scoped>\n",
       "    .dataframe tbody tr th:only-of-type {\n",
       "        vertical-align: middle;\n",
       "    }\n",
       "\n",
       "    .dataframe tbody tr th {\n",
       "        vertical-align: top;\n",
       "    }\n",
       "\n",
       "    .dataframe thead th {\n",
       "        text-align: right;\n",
       "    }\n",
       "</style>\n",
       "<table border=\"1\" class=\"dataframe\">\n",
       "  <thead>\n",
       "    <tr style=\"text-align: right;\">\n",
       "      <th></th>\n",
       "      <th>Timestamp</th>\n",
       "      <th>Open</th>\n",
       "      <th>High</th>\n",
       "      <th>Low</th>\n",
       "      <th>Close</th>\n",
       "      <th>VWAP</th>\n",
       "      <th>Volume</th>\n",
       "      <th>Count</th>\n",
       "      <th>Crypto</th>\n",
       "      <th>Volatility</th>\n",
       "      <th>...</th>\n",
       "      <th>Close_Lag_2</th>\n",
       "      <th>Close_Lag_3</th>\n",
       "      <th>Rolling_Std_7</th>\n",
       "      <th>Rolling_Std_14</th>\n",
       "      <th>EMA_7</th>\n",
       "      <th>EMA_14</th>\n",
       "      <th>MACD</th>\n",
       "      <th>Day_of_Week</th>\n",
       "      <th>Month</th>\n",
       "      <th>Week_of_Year</th>\n",
       "    </tr>\n",
       "  </thead>\n",
       "  <tbody>\n",
       "    <tr>\n",
       "      <th>13</th>\n",
       "      <td>2023-03-08</td>\n",
       "      <td>22194.8</td>\n",
       "      <td>22267.9</td>\n",
       "      <td>21600.0</td>\n",
       "      <td>21699.1</td>\n",
       "      <td>21970.0</td>\n",
       "      <td>2475.224370</td>\n",
       "      <td>28049</td>\n",
       "      <td>Bitcoin</td>\n",
       "      <td>667.9</td>\n",
       "      <td>...</td>\n",
       "      <td>22409.4</td>\n",
       "      <td>22426.9</td>\n",
       "      <td>528.172436</td>\n",
       "      <td>676.084522</td>\n",
       "      <td>22379.157190</td>\n",
       "      <td>22789.068300</td>\n",
       "      <td>-409.911110</td>\n",
       "      <td>2</td>\n",
       "      <td>3</td>\n",
       "      <td>10</td>\n",
       "    </tr>\n",
       "    <tr>\n",
       "      <th>14</th>\n",
       "      <td>2023-03-09</td>\n",
       "      <td>21696.5</td>\n",
       "      <td>21819.0</td>\n",
       "      <td>20042.3</td>\n",
       "      <td>20363.6</td>\n",
       "      <td>21055.3</td>\n",
       "      <td>5826.279918</td>\n",
       "      <td>45307</td>\n",
       "      <td>Bitcoin</td>\n",
       "      <td>1776.7</td>\n",
       "      <td>...</td>\n",
       "      <td>22196.9</td>\n",
       "      <td>22409.4</td>\n",
       "      <td>752.721845</td>\n",
       "      <td>902.811497</td>\n",
       "      <td>21875.267893</td>\n",
       "      <td>22465.672527</td>\n",
       "      <td>-590.404634</td>\n",
       "      <td>3</td>\n",
       "      <td>3</td>\n",
       "      <td>10</td>\n",
       "    </tr>\n",
       "    <tr>\n",
       "      <th>15</th>\n",
       "      <td>2023-03-10</td>\n",
       "      <td>20363.7</td>\n",
       "      <td>20364.0</td>\n",
       "      <td>19549.9</td>\n",
       "      <td>20224.7</td>\n",
       "      <td>19979.6</td>\n",
       "      <td>8017.548035</td>\n",
       "      <td>51367</td>\n",
       "      <td>Bitcoin</td>\n",
       "      <td>814.1</td>\n",
       "      <td>...</td>\n",
       "      <td>21699.1</td>\n",
       "      <td>22196.9</td>\n",
       "      <td>970.734540</td>\n",
       "      <td>1099.062158</td>\n",
       "      <td>21462.625919</td>\n",
       "      <td>22166.876190</td>\n",
       "      <td>-704.250271</td>\n",
       "      <td>4</td>\n",
       "      <td>3</td>\n",
       "      <td>10</td>\n",
       "    </tr>\n",
       "    <tr>\n",
       "      <th>16</th>\n",
       "      <td>2023-03-11</td>\n",
       "      <td>20224.7</td>\n",
       "      <td>20879.0</td>\n",
       "      <td>19888.0</td>\n",
       "      <td>20616.4</td>\n",
       "      <td>20391.4</td>\n",
       "      <td>9219.865369</td>\n",
       "      <td>78209</td>\n",
       "      <td>Bitcoin</td>\n",
       "      <td>991.0</td>\n",
       "      <td>...</td>\n",
       "      <td>20363.6</td>\n",
       "      <td>21699.1</td>\n",
       "      <td>988.662827</td>\n",
       "      <td>1181.711526</td>\n",
       "      <td>21251.069440</td>\n",
       "      <td>21960.146031</td>\n",
       "      <td>-709.076592</td>\n",
       "      <td>5</td>\n",
       "      <td>3</td>\n",
       "      <td>10</td>\n",
       "    </tr>\n",
       "    <tr>\n",
       "      <th>17</th>\n",
       "      <td>2023-03-12</td>\n",
       "      <td>20619.7</td>\n",
       "      <td>22299.9</td>\n",
       "      <td>20440.3</td>\n",
       "      <td>22157.5</td>\n",
       "      <td>21235.1</td>\n",
       "      <td>7395.001226</td>\n",
       "      <td>60425</td>\n",
       "      <td>Bitcoin</td>\n",
       "      <td>1859.6</td>\n",
       "      <td>...</td>\n",
       "      <td>20224.7</td>\n",
       "      <td>20363.6</td>\n",
       "      <td>947.293055</td>\n",
       "      <td>1122.512473</td>\n",
       "      <td>21477.677080</td>\n",
       "      <td>21986.459894</td>\n",
       "      <td>-508.782814</td>\n",
       "      <td>6</td>\n",
       "      <td>3</td>\n",
       "      <td>10</td>\n",
       "    </tr>\n",
       "  </tbody>\n",
       "</table>\n",
       "<p>5 rows × 25 columns</p>\n",
       "</div>"
      ],
      "text/plain": [
       "    Timestamp     Open     High      Low    Close     VWAP       Volume  \\\n",
       "13 2023-03-08  22194.8  22267.9  21600.0  21699.1  21970.0  2475.224370   \n",
       "14 2023-03-09  21696.5  21819.0  20042.3  20363.6  21055.3  5826.279918   \n",
       "15 2023-03-10  20363.7  20364.0  19549.9  20224.7  19979.6  8017.548035   \n",
       "16 2023-03-11  20224.7  20879.0  19888.0  20616.4  20391.4  9219.865369   \n",
       "17 2023-03-12  20619.7  22299.9  20440.3  22157.5  21235.1  7395.001226   \n",
       "\n",
       "    Count   Crypto  Volatility  ...  Close_Lag_2  Close_Lag_3  Rolling_Std_7  \\\n",
       "13  28049  Bitcoin       667.9  ...      22409.4      22426.9     528.172436   \n",
       "14  45307  Bitcoin      1776.7  ...      22196.9      22409.4     752.721845   \n",
       "15  51367  Bitcoin       814.1  ...      21699.1      22196.9     970.734540   \n",
       "16  78209  Bitcoin       991.0  ...      20363.6      21699.1     988.662827   \n",
       "17  60425  Bitcoin      1859.6  ...      20224.7      20363.6     947.293055   \n",
       "\n",
       "    Rolling_Std_14         EMA_7        EMA_14        MACD  Day_of_Week  \\\n",
       "13      676.084522  22379.157190  22789.068300 -409.911110            2   \n",
       "14      902.811497  21875.267893  22465.672527 -590.404634            3   \n",
       "15     1099.062158  21462.625919  22166.876190 -704.250271            4   \n",
       "16     1181.711526  21251.069440  21960.146031 -709.076592            5   \n",
       "17     1122.512473  21477.677080  21986.459894 -508.782814            6   \n",
       "\n",
       "    Month  Week_of_Year  \n",
       "13      3            10  \n",
       "14      3            10  \n",
       "15      3            10  \n",
       "16      3            10  \n",
       "17      3            10  \n",
       "\n",
       "[5 rows x 25 columns]"
      ]
     },
     "execution_count": 54,
     "metadata": {},
     "output_type": "execute_result"
    }
   ],
   "source": [
    "df.head()"
   ]
  },
  {
   "cell_type": "code",
   "execution_count": 130,
   "metadata": {},
   "outputs": [],
   "source": [
    "df = df.drop_duplicates(subset=['Timestamp'], keep='first')\n",
    "\n",
    "# Sort data by Timestamp\n",
    "df = df.sort_values(by=['Timestamp'])"
   ]
  },
  {
   "cell_type": "code",
   "execution_count": 131,
   "metadata": {},
   "outputs": [
    {
     "name": "stdout",
     "output_type": "stream",
     "text": [
      "Cleaned dataset saved at: C:/Users/anand/Documents/Capstone Files Dump//Test case 1/cleaned_bitcoin_data.csv\n"
     ]
    }
   ],
   "source": [
    "# Save cleaned dataset\n",
    "cleaned_csv_path = \"C:/Users/anand/Documents/Capstone Files Dump//Test case 1/cleaned_bitcoin_data.csv\"\n",
    "df.to_csv(cleaned_csv_path, index=False)\n",
    "\n",
    "# Confirm file saved\n",
    "print(f\"Cleaned dataset saved at: {cleaned_csv_path}\")"
   ]
  },
  {
   "cell_type": "code",
   "execution_count": 134,
   "metadata": {},
   "outputs": [],
   "source": [
    "df = pd.read_csv(\"C:/Users/anand/Documents/Capstone Files Dump/Test case 1/cleaned_bitcoin_data.csv\")"
   ]
  },
  {
   "cell_type": "code",
   "execution_count": 135,
   "metadata": {},
   "outputs": [
    {
     "data": {
      "application/vnd.plotly.v1+json": {
       "config": {
        "plotlyServerURL": "https://plot.ly"
       },
       "data": [
        {
         "hovertemplate": "Date=%{x}<br>Close Price=%{y}<extra></extra>",
         "legendgroup": "",
         "line": {
          "color": "#636efa",
          "dash": "solid"
         },
         "marker": {
          "line": {
           "color": "orange",
           "width": 2
          },
          "symbol": "circle"
         },
         "mode": "lines",
         "name": "",
         "opacity": 0.8,
         "orientation": "v",
         "showlegend": false,
         "type": "scatter",
         "x": [
          "08/03/2023",
          "09/03/2023",
          "10/03/2023",
          "11/03/2023",
          "12/03/2023",
          "13/03/2023",
          "14/03/2023",
          "15/03/2023",
          "16/03/2023",
          "17/03/2023",
          "18/03/2023",
          "19/03/2023",
          "20/03/2023",
          "21/03/2023",
          "22/03/2023",
          "23/03/2023",
          "24/03/2023",
          "25/03/2023",
          "26/03/2023",
          "27/03/2023",
          "28/03/2023",
          "29/03/2023",
          "30/03/2023",
          "31/03/2023",
          "01/04/2023",
          "02/04/2023",
          "03/04/2023",
          "04/04/2023",
          "05/04/2023",
          "06/04/2023",
          "07/04/2023",
          "08/04/2023",
          "09/04/2023",
          "10/04/2023",
          "11/04/2023",
          "12/04/2023",
          "13/04/2023",
          "14/04/2023",
          "15/04/2023",
          "16/04/2023",
          "17/04/2023",
          "18/04/2023",
          "19/04/2023",
          "20/04/2023",
          "21/04/2023",
          "22/04/2023",
          "23/04/2023",
          "24/04/2023",
          "25/04/2023",
          "26/04/2023",
          "27/04/2023",
          "28/04/2023",
          "29/04/2023",
          "30/04/2023",
          "01/05/2023",
          "02/05/2023",
          "03/05/2023",
          "04/05/2023",
          "05/05/2023",
          "06/05/2023",
          "07/05/2023",
          "08/05/2023",
          "09/05/2023",
          "10/05/2023",
          "11/05/2023",
          "12/05/2023",
          "13/05/2023",
          "14/05/2023",
          "15/05/2023",
          "16/05/2023",
          "17/05/2023",
          "18/05/2023",
          "19/05/2023",
          "20/05/2023",
          "21/05/2023",
          "22/05/2023",
          "23/05/2023",
          "24/05/2023",
          "25/05/2023",
          "26/05/2023",
          "27/05/2023",
          "28/05/2023",
          "29/05/2023",
          "30/05/2023",
          "31/05/2023",
          "01/06/2023",
          "02/06/2023",
          "03/06/2023",
          "04/06/2023",
          "05/06/2023",
          "06/06/2023",
          "07/06/2023",
          "08/06/2023",
          "09/06/2023",
          "10/06/2023",
          "11/06/2023",
          "12/06/2023",
          "13/06/2023",
          "14/06/2023",
          "15/06/2023",
          "16/06/2023",
          "17/06/2023",
          "18/06/2023",
          "19/06/2023",
          "20/06/2023",
          "21/06/2023",
          "22/06/2023",
          "23/06/2023",
          "24/06/2023",
          "25/06/2023",
          "26/06/2023",
          "27/06/2023",
          "28/06/2023",
          "29/06/2023",
          "30/06/2023",
          "01/07/2023",
          "02/07/2023",
          "03/07/2023",
          "04/07/2023",
          "05/07/2023",
          "06/07/2023",
          "07/07/2023",
          "08/07/2023",
          "09/07/2023",
          "10/07/2023",
          "11/07/2023",
          "12/07/2023",
          "13/07/2023",
          "14/07/2023",
          "15/07/2023",
          "16/07/2023",
          "17/07/2023",
          "18/07/2023",
          "19/07/2023",
          "20/07/2023",
          "21/07/2023",
          "22/07/2023",
          "23/07/2023",
          "24/07/2023",
          "25/07/2023",
          "26/07/2023",
          "27/07/2023",
          "28/07/2023",
          "29/07/2023",
          "30/07/2023",
          "31/07/2023",
          "01/08/2023",
          "02/08/2023",
          "03/08/2023",
          "04/08/2023",
          "05/08/2023",
          "06/08/2023",
          "07/08/2023",
          "08/08/2023",
          "09/08/2023",
          "10/08/2023",
          "11/08/2023",
          "12/08/2023",
          "13/08/2023",
          "14/08/2023",
          "15/08/2023",
          "16/08/2023",
          "17/08/2023",
          "18/08/2023",
          "19/08/2023",
          "20/08/2023",
          "21/08/2023",
          "22/08/2023",
          "23/08/2023",
          "24/08/2023",
          "25/08/2023",
          "26/08/2023",
          "27/08/2023",
          "28/08/2023",
          "29/08/2023",
          "30/08/2023",
          "31/08/2023",
          "01/09/2023",
          "02/09/2023",
          "03/09/2023",
          "04/09/2023",
          "05/09/2023",
          "06/09/2023",
          "07/09/2023",
          "08/09/2023",
          "09/09/2023",
          "10/09/2023",
          "11/09/2023",
          "12/09/2023",
          "13/09/2023",
          "14/09/2023",
          "15/09/2023",
          "16/09/2023",
          "17/09/2023",
          "18/09/2023",
          "19/09/2023",
          "20/09/2023",
          "21/09/2023",
          "22/09/2023",
          "23/09/2023",
          "24/09/2023",
          "25/09/2023",
          "26/09/2023",
          "27/09/2023",
          "28/09/2023",
          "29/09/2023",
          "30/09/2023",
          "01/10/2023",
          "02/10/2023",
          "03/10/2023",
          "04/10/2023",
          "05/10/2023",
          "06/10/2023",
          "07/10/2023",
          "08/10/2023",
          "09/10/2023",
          "10/10/2023",
          "11/10/2023",
          "12/10/2023",
          "13/10/2023",
          "14/10/2023",
          "15/10/2023",
          "16/10/2023",
          "17/10/2023",
          "18/10/2023",
          "19/10/2023",
          "20/10/2023",
          "21/10/2023",
          "22/10/2023",
          "23/10/2023",
          "24/10/2023",
          "25/10/2023",
          "26/10/2023",
          "27/10/2023",
          "28/10/2023",
          "29/10/2023",
          "30/10/2023",
          "31/10/2023",
          "01/11/2023",
          "02/11/2023",
          "03/11/2023",
          "04/11/2023",
          "05/11/2023",
          "06/11/2023",
          "07/11/2023",
          "08/11/2023",
          "09/11/2023",
          "10/11/2023",
          "11/11/2023",
          "12/11/2023",
          "13/11/2023",
          "14/11/2023",
          "15/11/2023",
          "16/11/2023",
          "17/11/2023",
          "18/11/2023",
          "19/11/2023",
          "20/11/2023",
          "21/11/2023",
          "22/11/2023",
          "23/11/2023",
          "24/11/2023",
          "25/11/2023",
          "26/11/2023",
          "27/11/2023",
          "28/11/2023",
          "29/11/2023",
          "30/11/2023",
          "01/12/2023",
          "02/12/2023",
          "03/12/2023",
          "04/12/2023",
          "05/12/2023",
          "06/12/2023",
          "07/12/2023",
          "08/12/2023",
          "09/12/2023",
          "10/12/2023",
          "11/12/2023",
          "12/12/2023",
          "13/12/2023",
          "14/12/2023",
          "15/12/2023",
          "16/12/2023",
          "17/12/2023",
          "18/12/2023",
          "19/12/2023",
          "20/12/2023",
          "21/12/2023",
          "22/12/2023",
          "23/12/2023",
          "24/12/2023",
          "25/12/2023",
          "26/12/2023",
          "27/12/2023",
          "28/12/2023",
          "29/12/2023",
          "30/12/2023",
          "31/12/2023",
          "01/01/2024",
          "02/01/2024",
          "03/01/2024",
          "04/01/2024",
          "05/01/2024",
          "06/01/2024",
          "07/01/2024",
          "08/01/2024",
          "09/01/2024",
          "10/01/2024",
          "11/01/2024",
          "12/01/2024",
          "13/01/2024",
          "14/01/2024",
          "15/01/2024",
          "16/01/2024",
          "17/01/2024",
          "18/01/2024",
          "19/01/2024",
          "20/01/2024",
          "21/01/2024",
          "22/01/2024",
          "23/01/2024",
          "24/01/2024",
          "25/01/2024",
          "26/01/2024",
          "27/01/2024",
          "28/01/2024",
          "29/01/2024",
          "30/01/2024",
          "31/01/2024",
          "01/02/2024",
          "02/02/2024",
          "03/02/2024",
          "04/02/2024",
          "05/02/2024",
          "06/02/2024",
          "07/02/2024",
          "08/02/2024",
          "09/02/2024",
          "10/02/2024",
          "11/02/2024",
          "12/02/2024",
          "13/02/2024",
          "14/02/2024",
          "15/02/2024",
          "16/02/2024",
          "17/02/2024",
          "18/02/2024",
          "19/02/2024",
          "20/02/2024",
          "21/02/2024",
          "22/02/2024",
          "23/02/2024",
          "24/02/2024",
          "25/02/2024",
          "26/02/2024",
          "27/02/2024",
          "28/02/2024",
          "29/02/2024",
          "01/03/2024",
          "02/03/2024",
          "03/03/2024",
          "04/03/2024",
          "05/03/2024",
          "06/03/2024",
          "07/03/2024",
          "08/03/2024",
          "09/03/2024",
          "10/03/2024",
          "11/03/2024",
          "12/03/2024",
          "13/03/2024",
          "14/03/2024",
          "15/03/2024",
          "16/03/2024",
          "17/03/2024",
          "18/03/2024",
          "19/03/2024",
          "20/03/2024",
          "21/03/2024",
          "22/03/2024",
          "23/03/2024",
          "24/03/2024",
          "25/03/2024",
          "26/03/2024",
          "27/03/2024",
          "28/03/2024",
          "29/03/2024",
          "30/03/2024",
          "31/03/2024",
          "01/04/2024",
          "02/04/2024",
          "03/04/2024",
          "04/04/2024",
          "05/04/2024",
          "06/04/2024",
          "07/04/2024",
          "08/04/2024",
          "09/04/2024",
          "10/04/2024",
          "11/04/2024",
          "12/04/2024",
          "13/04/2024",
          "14/04/2024",
          "15/04/2024",
          "16/04/2024",
          "17/04/2024",
          "18/04/2024",
          "19/04/2024",
          "20/04/2024",
          "21/04/2024",
          "22/04/2024",
          "23/04/2024",
          "24/04/2024",
          "25/04/2024",
          "26/04/2024",
          "27/04/2024",
          "28/04/2024",
          "29/04/2024",
          "30/04/2024",
          "01/05/2024",
          "02/05/2024",
          "03/05/2024",
          "04/05/2024",
          "05/05/2024",
          "06/05/2024",
          "07/05/2024",
          "08/05/2024",
          "09/05/2024",
          "10/05/2024",
          "11/05/2024",
          "12/05/2024",
          "13/05/2024",
          "14/05/2024",
          "15/05/2024",
          "16/05/2024",
          "17/05/2024",
          "18/05/2024",
          "19/05/2024",
          "20/05/2024",
          "21/05/2024",
          "22/05/2024",
          "23/05/2024",
          "24/05/2024",
          "25/05/2024",
          "26/05/2024",
          "27/05/2024",
          "28/05/2024",
          "29/05/2024",
          "30/05/2024",
          "31/05/2024",
          "01/06/2024",
          "02/06/2024",
          "03/06/2024",
          "04/06/2024",
          "05/06/2024",
          "06/06/2024",
          "07/06/2024",
          "08/06/2024",
          "09/06/2024",
          "10/06/2024",
          "11/06/2024",
          "12/06/2024",
          "13/06/2024",
          "14/06/2024",
          "15/06/2024",
          "16/06/2024",
          "17/06/2024",
          "18/06/2024",
          "19/06/2024",
          "20/06/2024",
          "21/06/2024",
          "22/06/2024",
          "23/06/2024",
          "24/06/2024",
          "25/06/2024",
          "26/06/2024",
          "27/06/2024",
          "28/06/2024",
          "29/06/2024",
          "30/06/2024",
          "01/07/2024",
          "02/07/2024",
          "03/07/2024",
          "04/07/2024",
          "05/07/2024",
          "06/07/2024",
          "07/07/2024",
          "08/07/2024",
          "09/07/2024",
          "10/07/2024",
          "11/07/2024",
          "12/07/2024",
          "13/07/2024",
          "14/07/2024",
          "15/07/2024",
          "16/07/2024",
          "17/07/2024",
          "18/07/2024",
          "19/07/2024",
          "20/07/2024",
          "21/07/2024",
          "22/07/2024",
          "23/07/2024",
          "24/07/2024",
          "25/07/2024",
          "26/07/2024",
          "27/07/2024",
          "28/07/2024",
          "29/07/2024",
          "30/07/2024",
          "31/07/2024",
          "01/08/2024",
          "02/08/2024",
          "03/08/2024",
          "04/08/2024",
          "05/08/2024",
          "06/08/2024",
          "07/08/2024",
          "08/08/2024",
          "09/08/2024",
          "10/08/2024",
          "11/08/2024",
          "12/08/2024",
          "13/08/2024",
          "14/08/2024",
          "15/08/2024",
          "16/08/2024",
          "17/08/2024",
          "18/08/2024",
          "19/08/2024",
          "20/08/2024",
          "21/08/2024",
          "22/08/2024",
          "23/08/2024",
          "24/08/2024",
          "25/08/2024",
          "26/08/2024",
          "27/08/2024",
          "28/08/2024",
          "29/08/2024",
          "30/08/2024",
          "31/08/2024",
          "01/09/2024",
          "02/09/2024",
          "03/09/2024",
          "04/09/2024",
          "05/09/2024",
          "06/09/2024",
          "07/09/2024",
          "08/09/2024",
          "09/09/2024",
          "10/09/2024",
          "11/09/2024",
          "12/09/2024",
          "13/09/2024",
          "14/09/2024",
          "15/09/2024",
          "16/09/2024",
          "17/09/2024",
          "18/09/2024",
          "19/09/2024",
          "20/09/2024",
          "21/09/2024",
          "22/09/2024",
          "23/09/2024",
          "24/09/2024",
          "25/09/2024",
          "26/09/2024",
          "27/09/2024",
          "28/09/2024",
          "29/09/2024",
          "30/09/2024",
          "01/10/2024",
          "02/10/2024",
          "03/10/2024",
          "04/10/2024",
          "05/10/2024",
          "06/10/2024",
          "07/10/2024",
          "08/10/2024",
          "09/10/2024",
          "10/10/2024",
          "11/10/2024",
          "12/10/2024",
          "13/10/2024",
          "14/10/2024",
          "15/10/2024",
          "16/10/2024",
          "17/10/2024",
          "18/10/2024",
          "19/10/2024",
          "20/10/2024",
          "21/10/2024",
          "22/10/2024",
          "23/10/2024",
          "24/10/2024",
          "25/10/2024",
          "26/10/2024",
          "27/10/2024",
          "28/10/2024",
          "29/10/2024",
          "30/10/2024",
          "31/10/2024",
          "01/11/2024",
          "02/11/2024",
          "03/11/2024",
          "04/11/2024",
          "05/11/2024",
          "06/11/2024",
          "07/11/2024",
          "08/11/2024",
          "09/11/2024",
          "10/11/2024",
          "11/11/2024",
          "12/11/2024",
          "13/11/2024",
          "14/11/2024",
          "15/11/2024",
          "16/11/2024",
          "17/11/2024",
          "18/11/2024",
          "19/11/2024",
          "20/11/2024",
          "21/11/2024",
          "22/11/2024",
          "23/11/2024",
          "24/11/2024",
          "25/11/2024",
          "26/11/2024",
          "27/11/2024",
          "28/11/2024",
          "29/11/2024",
          "30/11/2024",
          "01/12/2024",
          "02/12/2024",
          "03/12/2024",
          "04/12/2024",
          "05/12/2024",
          "06/12/2024",
          "07/12/2024",
          "08/12/2024",
          "09/12/2024",
          "10/12/2024",
          "11/12/2024",
          "12/12/2024",
          "13/12/2024",
          "14/12/2024",
          "15/12/2024",
          "16/12/2024",
          "17/12/2024",
          "18/12/2024",
          "19/12/2024",
          "20/12/2024",
          "21/12/2024",
          "22/12/2024",
          "23/12/2024",
          "24/12/2024",
          "25/12/2024",
          "26/12/2024",
          "27/12/2024",
          "28/12/2024",
          "29/12/2024",
          "30/12/2024",
          "31/12/2024",
          "01/01/2025",
          "02/01/2025",
          "03/01/2025",
          "04/01/2025",
          "05/01/2025",
          "06/01/2025",
          "07/01/2025",
          "08/01/2025",
          "09/01/2025",
          "10/01/2025",
          "11/01/2025",
          "12/01/2025",
          "13/01/2025",
          "14/01/2025",
          "15/01/2025",
          "16/01/2025",
          "17/01/2025",
          "18/01/2025",
          "19/01/2025",
          "20/01/2025",
          "21/01/2025",
          "22/01/2025",
          "23/01/2025",
          "24/01/2025",
          "25/01/2025",
          "26/01/2025",
          "27/01/2025",
          "28/01/2025",
          "29/01/2025",
          "30/01/2025",
          "31/01/2025",
          "01/02/2025",
          "02/02/2025",
          "03/02/2025",
          "04/02/2025",
          "05/02/2025",
          "06/02/2025",
          "07/02/2025",
          "08/02/2025",
          "09/02/2025",
          "10/02/2025",
          "11/02/2025"
         ],
         "xaxis": "x",
         "y": {
          "bdata": "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",
          "dtype": "f8"
         },
         "yaxis": "y"
        }
       ],
       "layout": {
        "font": {
         "color": "black",
         "size": 15
        },
        "legend": {
         "tracegroupgap": 0
        },
        "margin": {
         "t": 60
        },
        "plot_bgcolor": "white",
        "template": {
         "data": {
          "bar": [
           {
            "error_x": {
             "color": "#2a3f5f"
            },
            "error_y": {
             "color": "#2a3f5f"
            },
            "marker": {
             "line": {
              "color": "#E5ECF6",
              "width": 0.5
             },
             "pattern": {
              "fillmode": "overlay",
              "size": 10,
              "solidity": 0.2
             }
            },
            "type": "bar"
           }
          ],
          "barpolar": [
           {
            "marker": {
             "line": {
              "color": "#E5ECF6",
              "width": 0.5
             },
             "pattern": {
              "fillmode": "overlay",
              "size": 10,
              "solidity": 0.2
             }
            },
            "type": "barpolar"
           }
          ],
          "carpet": [
           {
            "aaxis": {
             "endlinecolor": "#2a3f5f",
             "gridcolor": "white",
             "linecolor": "white",
             "minorgridcolor": "white",
             "startlinecolor": "#2a3f5f"
            },
            "baxis": {
             "endlinecolor": "#2a3f5f",
             "gridcolor": "white",
             "linecolor": "white",
             "minorgridcolor": "white",
             "startlinecolor": "#2a3f5f"
            },
            "type": "carpet"
           }
          ],
          "choropleth": [
           {
            "colorbar": {
             "outlinewidth": 0,
             "ticks": ""
            },
            "type": "choropleth"
           }
          ],
          "contour": [
           {
            "colorbar": {
             "outlinewidth": 0,
             "ticks": ""
            },
            "colorscale": [
             [
              0,
              "#0d0887"
             ],
             [
              0.1111111111111111,
              "#46039f"
             ],
             [
              0.2222222222222222,
              "#7201a8"
             ],
             [
              0.3333333333333333,
              "#9c179e"
             ],
             [
              0.4444444444444444,
              "#bd3786"
             ],
             [
              0.5555555555555556,
              "#d8576b"
             ],
             [
              0.6666666666666666,
              "#ed7953"
             ],
             [
              0.7777777777777778,
              "#fb9f3a"
             ],
             [
              0.8888888888888888,
              "#fdca26"
             ],
             [
              1,
              "#f0f921"
             ]
            ],
            "type": "contour"
           }
          ],
          "contourcarpet": [
           {
            "colorbar": {
             "outlinewidth": 0,
             "ticks": ""
            },
            "type": "contourcarpet"
           }
          ],
          "heatmap": [
           {
            "colorbar": {
             "outlinewidth": 0,
             "ticks": ""
            },
            "colorscale": [
             [
              0,
              "#0d0887"
             ],
             [
              0.1111111111111111,
              "#46039f"
             ],
             [
              0.2222222222222222,
              "#7201a8"
             ],
             [
              0.3333333333333333,
              "#9c179e"
             ],
             [
              0.4444444444444444,
              "#bd3786"
             ],
             [
              0.5555555555555556,
              "#d8576b"
             ],
             [
              0.6666666666666666,
              "#ed7953"
             ],
             [
              0.7777777777777778,
              "#fb9f3a"
             ],
             [
              0.8888888888888888,
              "#fdca26"
             ],
             [
              1,
              "#f0f921"
             ]
            ],
            "type": "heatmap"
           }
          ],
          "histogram": [
           {
            "marker": {
             "pattern": {
              "fillmode": "overlay",
              "size": 10,
              "solidity": 0.2
             }
            },
            "type": "histogram"
           }
          ],
          "histogram2d": [
           {
            "colorbar": {
             "outlinewidth": 0,
             "ticks": ""
            },
            "colorscale": [
             [
              0,
              "#0d0887"
             ],
             [
              0.1111111111111111,
              "#46039f"
             ],
             [
              0.2222222222222222,
              "#7201a8"
             ],
             [
              0.3333333333333333,
              "#9c179e"
             ],
             [
              0.4444444444444444,
              "#bd3786"
             ],
             [
              0.5555555555555556,
              "#d8576b"
             ],
             [
              0.6666666666666666,
              "#ed7953"
             ],
             [
              0.7777777777777778,
              "#fb9f3a"
             ],
             [
              0.8888888888888888,
              "#fdca26"
             ],
             [
              1,
              "#f0f921"
             ]
            ],
            "type": "histogram2d"
           }
          ],
          "histogram2dcontour": [
           {
            "colorbar": {
             "outlinewidth": 0,
             "ticks": ""
            },
            "colorscale": [
             [
              0,
              "#0d0887"
             ],
             [
              0.1111111111111111,
              "#46039f"
             ],
             [
              0.2222222222222222,
              "#7201a8"
             ],
             [
              0.3333333333333333,
              "#9c179e"
             ],
             [
              0.4444444444444444,
              "#bd3786"
             ],
             [
              0.5555555555555556,
              "#d8576b"
             ],
             [
              0.6666666666666666,
              "#ed7953"
             ],
             [
              0.7777777777777778,
              "#fb9f3a"
             ],
             [
              0.8888888888888888,
              "#fdca26"
             ],
             [
              1,
              "#f0f921"
             ]
            ],
            "type": "histogram2dcontour"
           }
          ],
          "mesh3d": [
           {
            "colorbar": {
             "outlinewidth": 0,
             "ticks": ""
            },
            "type": "mesh3d"
           }
          ],
          "parcoords": [
           {
            "line": {
             "colorbar": {
              "outlinewidth": 0,
              "ticks": ""
             }
            },
            "type": "parcoords"
           }
          ],
          "pie": [
           {
            "automargin": true,
            "type": "pie"
           }
          ],
          "scatter": [
           {
            "fillpattern": {
             "fillmode": "overlay",
             "size": 10,
             "solidity": 0.2
            },
            "type": "scatter"
           }
          ],
          "scatter3d": [
           {
            "line": {
             "colorbar": {
              "outlinewidth": 0,
              "ticks": ""
             }
            },
            "marker": {
             "colorbar": {
              "outlinewidth": 0,
              "ticks": ""
             }
            },
            "type": "scatter3d"
           }
          ],
          "scattercarpet": [
           {
            "marker": {
             "colorbar": {
              "outlinewidth": 0,
              "ticks": ""
             }
            },
            "type": "scattercarpet"
           }
          ],
          "scattergeo": [
           {
            "marker": {
             "colorbar": {
              "outlinewidth": 0,
              "ticks": ""
             }
            },
            "type": "scattergeo"
           }
          ],
          "scattergl": [
           {
            "marker": {
             "colorbar": {
              "outlinewidth": 0,
              "ticks": ""
             }
            },
            "type": "scattergl"
           }
          ],
          "scattermap": [
           {
            "marker": {
             "colorbar": {
              "outlinewidth": 0,
              "ticks": ""
             }
            },
            "type": "scattermap"
           }
          ],
          "scattermapbox": [
           {
            "marker": {
             "colorbar": {
              "outlinewidth": 0,
              "ticks": ""
             }
            },
            "type": "scattermapbox"
           }
          ],
          "scatterpolar": [
           {
            "marker": {
             "colorbar": {
              "outlinewidth": 0,
              "ticks": ""
             }
            },
            "type": "scatterpolar"
           }
          ],
          "scatterpolargl": [
           {
            "marker": {
             "colorbar": {
              "outlinewidth": 0,
              "ticks": ""
             }
            },
            "type": "scatterpolargl"
           }
          ],
          "scatterternary": [
           {
            "marker": {
             "colorbar": {
              "outlinewidth": 0,
              "ticks": ""
             }
            },
            "type": "scatterternary"
           }
          ],
          "surface": [
           {
            "colorbar": {
             "outlinewidth": 0,
             "ticks": ""
            },
            "colorscale": [
             [
              0,
              "#0d0887"
             ],
             [
              0.1111111111111111,
              "#46039f"
             ],
             [
              0.2222222222222222,
              "#7201a8"
             ],
             [
              0.3333333333333333,
              "#9c179e"
             ],
             [
              0.4444444444444444,
              "#bd3786"
             ],
             [
              0.5555555555555556,
              "#d8576b"
             ],
             [
              0.6666666666666666,
              "#ed7953"
             ],
             [
              0.7777777777777778,
              "#fb9f3a"
             ],
             [
              0.8888888888888888,
              "#fdca26"
             ],
             [
              1,
              "#f0f921"
             ]
            ],
            "type": "surface"
           }
          ],
          "table": [
           {
            "cells": {
             "fill": {
              "color": "#EBF0F8"
             },
             "line": {
              "color": "white"
             }
            },
            "header": {
             "fill": {
              "color": "#C8D4E3"
             },
             "line": {
              "color": "white"
             }
            },
            "type": "table"
           }
          ]
         },
         "layout": {
          "annotationdefaults": {
           "arrowcolor": "#2a3f5f",
           "arrowhead": 0,
           "arrowwidth": 1
          },
          "autotypenumbers": "strict",
          "coloraxis": {
           "colorbar": {
            "outlinewidth": 0,
            "ticks": ""
           }
          },
          "colorscale": {
           "diverging": [
            [
             0,
             "#8e0152"
            ],
            [
             0.1,
             "#c51b7d"
            ],
            [
             0.2,
             "#de77ae"
            ],
            [
             0.3,
             "#f1b6da"
            ],
            [
             0.4,
             "#fde0ef"
            ],
            [
             0.5,
             "#f7f7f7"
            ],
            [
             0.6,
             "#e6f5d0"
            ],
            [
             0.7,
             "#b8e186"
            ],
            [
             0.8,
             "#7fbc41"
            ],
            [
             0.9,
             "#4d9221"
            ],
            [
             1,
             "#276419"
            ]
           ],
           "sequential": [
            [
             0,
             "#0d0887"
            ],
            [
             0.1111111111111111,
             "#46039f"
            ],
            [
             0.2222222222222222,
             "#7201a8"
            ],
            [
             0.3333333333333333,
             "#9c179e"
            ],
            [
             0.4444444444444444,
             "#bd3786"
            ],
            [
             0.5555555555555556,
             "#d8576b"
            ],
            [
             0.6666666666666666,
             "#ed7953"
            ],
            [
             0.7777777777777778,
             "#fb9f3a"
            ],
            [
             0.8888888888888888,
             "#fdca26"
            ],
            [
             1,
             "#f0f921"
            ]
           ],
           "sequentialminus": [
            [
             0,
             "#0d0887"
            ],
            [
             0.1111111111111111,
             "#46039f"
            ],
            [
             0.2222222222222222,
             "#7201a8"
            ],
            [
             0.3333333333333333,
             "#9c179e"
            ],
            [
             0.4444444444444444,
             "#bd3786"
            ],
            [
             0.5555555555555556,
             "#d8576b"
            ],
            [
             0.6666666666666666,
             "#ed7953"
            ],
            [
             0.7777777777777778,
             "#fb9f3a"
            ],
            [
             0.8888888888888888,
             "#fdca26"
            ],
            [
             1,
             "#f0f921"
            ]
           ]
          },
          "colorway": [
           "#636efa",
           "#EF553B",
           "#00cc96",
           "#ab63fa",
           "#FFA15A",
           "#19d3f3",
           "#FF6692",
           "#B6E880",
           "#FF97FF",
           "#FECB52"
          ],
          "font": {
           "color": "#2a3f5f"
          },
          "geo": {
           "bgcolor": "white",
           "lakecolor": "white",
           "landcolor": "#E5ECF6",
           "showlakes": true,
           "showland": true,
           "subunitcolor": "white"
          },
          "hoverlabel": {
           "align": "left"
          },
          "hovermode": "closest",
          "mapbox": {
           "style": "light"
          },
          "paper_bgcolor": "white",
          "plot_bgcolor": "#E5ECF6",
          "polar": {
           "angularaxis": {
            "gridcolor": "white",
            "linecolor": "white",
            "ticks": ""
           },
           "bgcolor": "#E5ECF6",
           "radialaxis": {
            "gridcolor": "white",
            "linecolor": "white",
            "ticks": ""
           }
          },
          "scene": {
           "xaxis": {
            "backgroundcolor": "#E5ECF6",
            "gridcolor": "white",
            "gridwidth": 2,
            "linecolor": "white",
            "showbackground": true,
            "ticks": "",
            "zerolinecolor": "white"
           },
           "yaxis": {
            "backgroundcolor": "#E5ECF6",
            "gridcolor": "white",
            "gridwidth": 2,
            "linecolor": "white",
            "showbackground": true,
            "ticks": "",
            "zerolinecolor": "white"
           },
           "zaxis": {
            "backgroundcolor": "#E5ECF6",
            "gridcolor": "white",
            "gridwidth": 2,
            "linecolor": "white",
            "showbackground": true,
            "ticks": "",
            "zerolinecolor": "white"
           }
          },
          "shapedefaults": {
           "line": {
            "color": "#2a3f5f"
           }
          },
          "ternary": {
           "aaxis": {
            "gridcolor": "white",
            "linecolor": "white",
            "ticks": ""
           },
           "baxis": {
            "gridcolor": "white",
            "linecolor": "white",
            "ticks": ""
           },
           "bgcolor": "#E5ECF6",
           "caxis": {
            "gridcolor": "white",
            "linecolor": "white",
            "ticks": ""
           }
          },
          "title": {
           "x": 0.05
          },
          "xaxis": {
           "automargin": true,
           "gridcolor": "white",
           "linecolor": "white",
           "ticks": "",
           "title": {
            "standoff": 15
           },
           "zerolinecolor": "white",
           "zerolinewidth": 2
          },
          "yaxis": {
           "automargin": true,
           "gridcolor": "white",
           "linecolor": "white",
           "ticks": "",
           "title": {
            "standoff": 15
           },
           "zerolinecolor": "white",
           "zerolinewidth": 2
          }
         }
        },
        "title": {
         "text": "Whole period of timeframe of Bitcoin close price "
        },
        "xaxis": {
         "anchor": "y",
         "domain": [
          0,
          1
         ],
         "showgrid": false,
         "title": {
          "text": "Date"
         }
        },
        "yaxis": {
         "anchor": "x",
         "domain": [
          0,
          1
         ],
         "showgrid": false,
         "title": {
          "text": "Close Price"
         }
        }
       }
      }
     },
     "metadata": {},
     "output_type": "display_data"
    }
   ],
   "source": [
    "import plotly.express as px\n",
    "\n",
    "fig = px.line(df, x=df['Timestamp'], y=df['Close'], labels={'Timestamp': 'Date', 'Close': 'Close Price'})\n",
    "\n",
    "\n",
    "# Update trace settings\n",
    "fig.update_traces(\n",
    "    marker_line_width=2, \n",
    "    opacity=0.8, \n",
    "    marker_line_color='orange'\n",
    ")\n",
    "\n",
    "# Update layout with title and styling\n",
    "fig.update_layout(\n",
    "    title_text='Whole period of timeframe of Bitcoin close price ',\n",
    "    plot_bgcolor='white',\n",
    "    font_size=15,\n",
    "    font_color='black'\n",
    ")\n",
    "\n",
    "# Remove grid from x and y axes\n",
    "fig.update_xaxes(showgrid=False)\n",
    "fig.update_yaxes(showgrid=False)\n",
    "\n",
    "# Show plot\n",
    "fig.show()\n"
   ]
  },
  {
   "cell_type": "code",
   "execution_count": 60,
   "metadata": {},
   "outputs": [
    {
     "name": "stdout",
     "output_type": "stream",
     "text": [
      "Trial 30 Complete [00h 04m 12s]\n",
      "val_loss: 0.0013257319806143641\n",
      "\n",
      "Best val_loss So Far: 0.0009307084255851805\n",
      "Total elapsed time: 03h 16m 24s\n",
      "Epoch 1/80\n",
      "\u001b[1m9/9\u001b[0m \u001b[32m━━━━━━━━━━━━━━━━━━━━\u001b[0m\u001b[37m\u001b[0m \u001b[1m6s\u001b[0m 141ms/step - loss: 0.0217 - val_loss: 0.0119\n",
      "Epoch 2/80\n",
      "\u001b[1m9/9\u001b[0m \u001b[32m━━━━━━━━━━━━━━━━━━━━\u001b[0m\u001b[37m\u001b[0m \u001b[1m1s\u001b[0m 62ms/step - loss: 0.0020 - val_loss: 9.6967e-04\n",
      "Epoch 3/80\n",
      "\u001b[1m9/9\u001b[0m \u001b[32m━━━━━━━━━━━━━━━━━━━━\u001b[0m\u001b[37m\u001b[0m \u001b[1m1s\u001b[0m 59ms/step - loss: 0.0010 - val_loss: 0.0010\n",
      "Epoch 4/80\n",
      "\u001b[1m9/9\u001b[0m \u001b[32m━━━━━━━━━━━━━━━━━━━━\u001b[0m\u001b[37m\u001b[0m \u001b[1m1s\u001b[0m 60ms/step - loss: 6.1501e-04 - val_loss: 0.0016\n",
      "Epoch 5/80\n",
      "\u001b[1m9/9\u001b[0m \u001b[32m━━━━━━━━━━━━━━━━━━━━\u001b[0m\u001b[37m\u001b[0m \u001b[1m1s\u001b[0m 60ms/step - loss: 3.7820e-04 - val_loss: 0.0012\n",
      "Epoch 6/80\n",
      "\u001b[1m9/9\u001b[0m \u001b[32m━━━━━━━━━━━━━━━━━━━━\u001b[0m\u001b[37m\u001b[0m \u001b[1m1s\u001b[0m 58ms/step - loss: 4.1344e-04 - val_loss: 0.0012\n",
      "Epoch 7/80\n",
      "\u001b[1m9/9\u001b[0m \u001b[32m━━━━━━━━━━━━━━━━━━━━\u001b[0m\u001b[37m\u001b[0m \u001b[1m1s\u001b[0m 58ms/step - loss: 4.0283e-04 - val_loss: 0.0011\n",
      "Epoch 8/80\n",
      "\u001b[1m9/9\u001b[0m \u001b[32m━━━━━━━━━━━━━━━━━━━━\u001b[0m\u001b[37m\u001b[0m \u001b[1m1s\u001b[0m 59ms/step - loss: 3.8345e-04 - val_loss: 0.0012\n",
      "Epoch 9/80\n",
      "\u001b[1m9/9\u001b[0m \u001b[32m━━━━━━━━━━━━━━━━━━━━\u001b[0m\u001b[37m\u001b[0m \u001b[1m1s\u001b[0m 60ms/step - loss: 3.3732e-04 - val_loss: 0.0016\n",
      "Epoch 10/80\n",
      "\u001b[1m9/9\u001b[0m \u001b[32m━━━━━━━━━━━━━━━━━━━━\u001b[0m\u001b[37m\u001b[0m \u001b[1m1s\u001b[0m 58ms/step - loss: 3.0732e-04 - val_loss: 0.0048\n",
      "Epoch 11/80\n",
      "\u001b[1m9/9\u001b[0m \u001b[32m━━━━━━━━━━━━━━━━━━━━\u001b[0m\u001b[37m\u001b[0m \u001b[1m1s\u001b[0m 58ms/step - loss: 3.1464e-04 - val_loss: 0.0040\n",
      "Epoch 12/80\n",
      "\u001b[1m9/9\u001b[0m \u001b[32m━━━━━━━━━━━━━━━━━━━━\u001b[0m\u001b[37m\u001b[0m \u001b[1m1s\u001b[0m 59ms/step - loss: 3.2399e-04 - val_loss: 0.0042\n",
      "Epoch 13/80\n",
      "\u001b[1m9/9\u001b[0m \u001b[32m━━━━━━━━━━━━━━━━━━━━\u001b[0m\u001b[37m\u001b[0m \u001b[1m1s\u001b[0m 61ms/step - loss: 3.2178e-04 - val_loss: 0.0019\n",
      "Epoch 14/80\n",
      "\u001b[1m9/9\u001b[0m \u001b[32m━━━━━━━━━━━━━━━━━━━━\u001b[0m\u001b[37m\u001b[0m \u001b[1m1s\u001b[0m 59ms/step - loss: 2.6528e-04 - val_loss: 0.0010\n",
      "Epoch 15/80\n",
      "\u001b[1m9/9\u001b[0m \u001b[32m━━━━━━━━━━━━━━━━━━━━\u001b[0m\u001b[37m\u001b[0m \u001b[1m1s\u001b[0m 59ms/step - loss: 3.2545e-04 - val_loss: 0.0033\n",
      "Epoch 16/80\n",
      "\u001b[1m9/9\u001b[0m \u001b[32m━━━━━━━━━━━━━━━━━━━━\u001b[0m\u001b[37m\u001b[0m \u001b[1m1s\u001b[0m 60ms/step - loss: 2.6173e-04 - val_loss: 0.0022\n",
      "Epoch 17/80\n",
      "\u001b[1m9/9\u001b[0m \u001b[32m━━━━━━━━━━━━━━━━━━━━\u001b[0m\u001b[37m\u001b[0m \u001b[1m1s\u001b[0m 59ms/step - loss: 2.1706e-04 - val_loss: 0.0023\n"
     ]
    },
    {
     "name": "stderr",
     "output_type": "stream",
     "text": [
      "WARNING:absl:You are saving your model as an HDF5 file via `model.save()` or `keras.saving.save_model(model)`. This file format is considered legacy. We recommend using instead the native Keras format, e.g. `model.save('my_model.keras')` or `keras.saving.save_model(model, 'my_model.keras')`. \n"
     ]
    },
    {
     "name": "stdout",
     "output_type": "stream",
     "text": [
      "✅ Model saved: models/LSTM_Bitcoin.h5\n",
      "\u001b[1m5/5\u001b[0m \u001b[32m━━━━━━━━━━━━━━━━━━━━\u001b[0m\u001b[37m\u001b[0m \u001b[1m1s\u001b[0m 126ms/step\n"
     ]
    },
    {
     "data": {
      "image/png": "[encoded data removed]",
      "text/plain": [
       "<Figure size 1200x600 with 1 Axes>"
      ]
     },
     "metadata": {},
     "output_type": "display_data"
    },
    {
     "name": "stdout",
     "output_type": "stream",
     "text": [
      "📊 Performance for Bitcoin: {'MAE': np.float64(3123.514416058393), 'MSE': np.float64(14322741.88584401), 'RMSE': np.float64(3784.539851269109), 'R-squared': 0.9356328865975758}\n"
     ]
    }
   ],
   "source": [
    "# ✅ Use separate scalers for features & target\n",
    "scaler_features = MinMaxScaler()\n",
    "scaler_target = MinMaxScaler()\n",
    "\n",
    "crypto_scaled_features = scaler_features.fit_transform(crypto_df[features])  \n",
    "target_scaled = scaler_target.fit_transform(crypto_df[[target]])  \n",
    "\n",
    "# Combine after scaling\n",
    "crypto_scaled = np.hstack((crypto_scaled_features, target_scaled))\n",
    "crypto_scaled = pd.DataFrame(crypto_scaled, columns=features + [target], index=crypto_df.index)\n",
    "\n",
    "# Train-Test Split\n",
    "train_size = int(len(crypto_scaled) * 0.8)\n",
    "train, test = crypto_scaled.iloc[:train_size], crypto_scaled.iloc[train_size:]\n",
    "\n",
    "# ✅ Increase sequence length to 60-120\n",
    "def create_sequences(data, seq_length):\n",
    "    x_data, y_data = [], []\n",
    "    for i in range(seq_length, len(data)):\n",
    "        x_data.append(data.iloc[i-seq_length:i][features].values)\n",
    "        y_data.append(data.iloc[i][target])\n",
    "    return np.array(x_data), np.array(y_data)\n",
    "\n",
    "# Define Model for Keras Tuner\n",
    "def build_model(hp):\n",
    "    sequence_length = hp.Int('sequence_length', min_value=5, max_value=20, step=5)\n",
    "\n",
    "    model = Sequential([\n",
    "        Input(shape=(sequence_length, len(features))),\n",
    "        Bidirectional(LSTM(hp.Int('units_1', min_value=128, max_value=768, step=128), return_sequences=True)),\n",
    "        Dropout(hp.Float('dropout_1', 0.005, 0.02, step=0.005)),  # ✅ Reduce Dropout\n",
    "\n",
    "        LSTM(hp.Int('units_2', min_value=128, max_value=768, step=128), return_sequences=True),\n",
    "        Dropout(hp.Float('dropout_2', 0.005, 0.02, step=0.005)),\n",
    "\n",
    "        LSTM(hp.Int('units_3', min_value=128, max_value=768, step=128), return_sequences=False),\n",
    "        Dropout(hp.Float('dropout_3', 0.005, 0.02, step=0.005)),\n",
    "\n",
    "        Dense(hp.Int('dense_units', 128, 512, step=128), activation='tanh'),\n",
    "        Dense(1, activation='linear')\n",
    "    ])\n",
    "\n",
    "    model.compile(optimizer=Adam(learning_rate=hp.Choice('learning_rate', [0.0003, 0.0005, 0.001])),\n",
    "                  loss=Huber(delta=100))  # ✅ Larger delta for Bitcoin\n",
    "    return model\n",
    "\n",
    "# ✅ Increase trials for better tuning\n",
    "tuner = kt.RandomSearch(\n",
    "    build_model,\n",
    "    objective='val_loss',\n",
    "    max_trials=30,  \n",
    "    executions_per_trial=1,\n",
    "    directory='lstm_tuning',\n",
    "    project_name=f'crypto_forecasting_{crypto}',\n",
    "    overwrite=True\n",
    ")\n",
    "\n",
    "# Run Hyperparameter Tuning\n",
    "x_train, y_train = create_sequences(train, 60)  \n",
    "x_test, y_test = create_sequences(test, 60)\n",
    "\n",
    "tuner.search(x_train, y_train, validation_data=(x_test, y_test), epochs=40, batch_size=64, verbose=1)\n",
    "\n",
    "# Get Best Hyperparameters\n",
    "best_hps = tuner.get_best_hyperparameters(num_trials=1)[0]\n",
    "optimal_sequence_length = best_hps.get('sequence_length')\n",
    "\n",
    "# Train Final Model with Best Sequence Length\n",
    "x_train, y_train = create_sequences(train, optimal_sequence_length)\n",
    "x_test, y_test = create_sequences(test, optimal_sequence_length)\n",
    "\n",
    "model = build_model(best_hps)\n",
    "\n",
    "early_stopping = tf.keras.callbacks.EarlyStopping(monitor='val_loss', patience=15, restore_best_weights=True)\n",
    "model.fit(x_train, y_train, validation_data=(x_test, y_test), epochs=80, batch_size=64, verbose=1, callbacks=[early_stopping])\n",
    "\n",
    "# ✅ Save Model\n",
    "model.save(os.path.join(\"models\", f\"LSTM_{crypto}.h5\"))\n",
    "print(f\"✅ Model saved: models/LSTM_{crypto}.h5\")\n",
    "\n",
    "# Make Predictions\n",
    "y_pred = model.predict(x_test)\n",
    "\n",
    "# ✅ Fix inverse transformation issue\n",
    "y_pred_rescaled = scaler_target.inverse_transform(y_pred.reshape(-1, 1))[:, 0]\n",
    "y_test_rescaled = scaler_target.inverse_transform(y_test.reshape(-1, 1))[:, 0]\n",
    "\n",
    "# ✅ Plot Predictions\n",
    "plt.figure(figsize=(12, 6))\n",
    "plt.plot(test.index[optimal_sequence_length:], y_test_rescaled, label=\"Actual\", color=\"blue\")\n",
    "plt.plot(test.index[optimal_sequence_length:], y_pred_rescaled, label=\"LSTM Predicted\", color=\"orange\")\n",
    "plt.title(f\"LSTM Model - Actual vs Predicted for {crypto}\")\n",
    "plt.legend()\n",
    "plt.show()\n",
    "\n",
    "# ✅ Compute Performance Metrics\n",
    "performance_metrics = {\n",
    "    \"MAE\": mean_absolute_error(y_test_rescaled, y_pred_rescaled),\n",
    "    \"MSE\": mean_squared_error(y_test_rescaled, y_pred_rescaled),\n",
    "    \"RMSE\": np.sqrt(mean_squared_error(y_test_rescaled, y_pred_rescaled)),\n",
    "    \"R-squared\": r2_score(y_test_rescaled, y_pred_rescaled)\n",
    "}\n",
    "\n",
    "# ✅ Print & Save Metrics\n",
    "print(f\"📊 Performance for {crypto}: {performance_metrics}\")\n",
    "pd.DataFrame([performance_metrics]).to_csv(f\"LSTM_Performance_{crypto}.csv\", index=False)"
   ]
  },
  {
   "cell_type": "code",
   "execution_count": 2,
   "metadata": {},
   "outputs": [
    {
     "name": "stdout",
     "output_type": "stream",
     "text": [
      "               Open     High      Low    Close     VWAP       Volume  Count  \\\n",
      "Timestamp                                                                     \n",
      "2023-03-08  22194.8  22267.9  21600.0  21699.1  21970.0  2475.224370  28049   \n",
      "2023-03-09  21696.5  21819.0  20042.3  20363.6  21055.3  5826.279918  45307   \n",
      "2023-03-10  20363.7  20364.0  19549.9  20224.7  19979.6  8017.548035  51367   \n",
      "2023-03-11  20224.7  20879.0  19888.0  20616.4  20391.4  9219.865369  78209   \n",
      "2023-03-12  20619.7  22299.9  20440.3  22157.5  21235.1  7395.001226  60425   \n",
      "\n",
      "             Crypto  Volatility  Price_Change  ...  Close_Lag_2  Close_Lag_3  \\\n",
      "Timestamp                                      ...                             \n",
      "2023-03-08  Bitcoin       667.9        -497.8  ...      22409.4      22426.9   \n",
      "2023-03-09  Bitcoin      1776.7       -1335.5  ...      22196.9      22409.4   \n",
      "2023-03-10  Bitcoin       814.1        -138.9  ...      21699.1      22196.9   \n",
      "2023-03-11  Bitcoin       991.0         391.7  ...      20363.6      21699.1   \n",
      "2023-03-12  Bitcoin      1859.6        1541.1  ...      20224.7      20363.6   \n",
      "\n",
      "            Rolling_Std_7  Rolling_Std_14         EMA_7        EMA_14  \\\n",
      "Timestamp                                                               \n",
      "2023-03-08     528.172436      676.084522  22379.157190  22789.068300   \n",
      "2023-03-09     752.721845      902.811497  21875.267893  22465.672527   \n",
      "2023-03-10     970.734540     1099.062158  21462.625919  22166.876190   \n",
      "2023-03-11     988.662827     1181.711526  21251.069440  21960.146031   \n",
      "2023-03-12     947.293055     1122.512473  21477.677080  21986.459894   \n",
      "\n",
      "                  MACD  Day_of_Week  Month  Week_of_Year  \n",
      "Timestamp                                                 \n",
      "2023-03-08 -409.911110            2      3            10  \n",
      "2023-03-09 -590.404634            3      3            10  \n",
      "2023-03-10 -704.250271            4      3            10  \n",
      "2023-03-11 -709.076592            5      3            10  \n",
      "2023-03-12 -508.782814            6      3            10  \n",
      "\n",
      "[5 rows x 24 columns]\n"
     ]
    }
   ],
   "source": [
    "import pandas as pd\n",
    "\n",
    "# Load the Bitcoin dataset\n",
    "bitcoin_data_path = \"C:/Users/anand/Documents/Capstone Files Dump/Test case 1/separatemodeltraining/cleaned_bitcoin_data.csv\"\n",
    "bitcoin_df = pd.read_csv(bitcoin_data_path)\n",
    "\n",
    "# Convert Timestamp to datetime\n",
    "bitcoin_df['Timestamp'] = pd.to_datetime(bitcoin_df['Timestamp'], format=\"%d/%m/%Y\", dayfirst=True)\n",
    "bitcoin_df.set_index('Timestamp', inplace=True)\n",
    "\n",
    "# Define target variable (Close price)\n",
    "close_prices = bitcoin_df['Close']\n",
    "\n",
    "# Define exogenous features\n",
    "features = ['MACD', 'EMA_7', 'Close_Lag_1']\n",
    "exog_features = bitcoin_df[features]\n",
    "\n",
    "# Display first few rows\n",
    "print(bitcoin_df.head())"
   ]
  },
  {
   "cell_type": "code",
   "execution_count": 3,
   "metadata": {},
   "outputs": [
    {
     "name": "stdout",
     "output_type": "stream",
     "text": [
      "ADF Statistic: -0.06857731918925279\n",
      "p-value: 0.9524797976125381\n",
      "⚠️ Data is non-stationary, differencing is required (d>0).\n"
     ]
    }
   ],
   "source": [
    "from statsmodels.tsa.stattools import adfuller\n",
    "\n",
    "# Perform ADF Test on Close Price\n",
    "adf_test = adfuller(close_prices)\n",
    "\n",
    "print(f\"ADF Statistic: {adf_test[0]}\")\n",
    "print(f\"p-value: {adf_test[1]}\")\n",
    "\n",
    "if adf_test[1] < 0.05:\n",
    "    print(\"✅ Data is stationary, ARIMA can be applied directly (d=0).\")\n",
    "else:\n",
    "    print(\"⚠️ Data is non-stationary, differencing is required (d>0).\")\n"
   ]
  },
  {
   "cell_type": "code",
   "execution_count": 4,
   "metadata": {},
   "outputs": [
    {
     "name": "stdout",
     "output_type": "stream",
     "text": [
      "After Differencing - ADF Statistic: -11.597400277889724\n",
      "After Differencing - p-value: 2.6996629942224443e-21\n",
      "✅ Data is now stationary, ARIMA can be applied with d=1.\n"
     ]
    }
   ],
   "source": [
    "# Apply first-order differencing if needed\n",
    "diff_close_prices = close_prices.diff().dropna()\n",
    "\n",
    "# Perform ADF test again\n",
    "adf_test_diff = adfuller(diff_close_prices)\n",
    "\n",
    "print(f\"After Differencing - ADF Statistic: {adf_test_diff[0]}\")\n",
    "print(f\"After Differencing - p-value: {adf_test_diff[1]}\")\n",
    "\n",
    "if adf_test_diff[1] < 0.05:\n",
    "    print(\"✅ Data is now stationary, ARIMA can be applied with d=1.\")\n",
    "else:\n",
    "    print(\"⚠️ Still non-stationary, consider d=2.\")"
   ]
  },
  {
   "cell_type": "code",
   "execution_count": 5,
   "metadata": {},
   "outputs": [
    {
     "data": {
      "image/png": "[encoded data removed]",
      "text/plain": [
       "<Figure size 1200x500 with 2 Axes>"
      ]
     },
     "metadata": {},
     "output_type": "display_data"
    }
   ],
   "source": [
    "import matplotlib.pyplot as plt\n",
    "from statsmodels.graphics.tsaplots import plot_acf, plot_pacf\n",
    "\n",
    "# Plot ACF & PACF\n",
    "fig, axes = plt.subplots(1, 2, figsize=(12, 5))\n",
    "\n",
    "# ACF Plot (for q)\n",
    "plot_acf(diff_close_prices, ax=axes[0])\n",
    "axes[0].set_title(\"Autocorrelation Function (ACF)\")\n",
    "\n",
    "# PACF Plot (for p)\n",
    "plot_pacf(diff_close_prices, ax=axes[1])\n",
    "axes[1].set_title(\"Partial Autocorrelation Function (PACF)\")\n",
    "\n",
    "plt.show()\n"
   ]
  },
  {
   "cell_type": "code",
   "execution_count": null,
   "metadata": {},
   "outputs": [],
   "source": [
    "import itertools\n",
    "from statsmodels.tsa.statespace.sarimax import SARIMAX\n",
    "from sklearn.metrics import mean_absolute_error\n",
    "\n",
    "# Define possible values for p, d, q, P, D, Q\n",
    "p = range(0, 3)\n",
    "d = range(0, 2)\n",
    "q = range(0, 3)\n",
    "P = range(0, 2)\n",
    "D = range(0, 2)\n",
    "Q = range(0, 2)\n",
    "s = [7]  # Weekly seasonality\n",
    "\n",
    "best_mae = float(\"inf\")\n",
    "best_params = None\n",
    "best_model = None\n",
    "\n",
    "# Grid search over all combinations\n",
    "for param in itertools.product(p, d, q, P, D, Q, s):\n",
    "    try:\n",
    "        model = SARIMAX(close_prices, exog=exog_features, order=param[:3], seasonal_order=param[3:])\n",
    "        result = model.fit(disp=False)\n",
    "        \n",
    "        # Forecast for last 30 days\n",
    "        forecast = result.forecast(steps=30, exog=exog_features.iloc[-30:])\n",
    "        \n",
    "        # Compute MAE\n",
    "        mae = mean_absolute_error(close_prices[-30:], forecast)\n",
    "        \n",
    "        if mae < best_mae:\n",
    "            best_mae = mae\n",
    "            best_params = param\n",
    "            best_model = result\n",
    "    \n",
    "    except:\n",
    "        continue\n",
    "\n",
    "print(f\"✅ Best SARIMAX Parameters: {best_params} with MAE: {best_mae}\")\n"
   ]
  },
  {
   "cell_type": "code",
   "execution_count": 6,
   "metadata": {},
   "outputs": [
    {
     "name": "stderr",
     "output_type": "stream",
     "text": [
      "c:\\Users\\anand\\AppData\\Local\\Programs\\Python\\Python312\\Lib\\site-packages\\statsmodels\\tsa\\base\\tsa_model.py:473: ValueWarning: No frequency information was provided, so inferred frequency D will be used.\n",
      "  self._init_dates(dates, freq)\n",
      "c:\\Users\\anand\\AppData\\Local\\Programs\\Python\\Python312\\Lib\\site-packages\\statsmodels\\tsa\\base\\tsa_model.py:473: ValueWarning: No frequency information was provided, so inferred frequency D will be used.\n",
      "  self._init_dates(dates, freq)\n"
     ]
    },
    {
     "name": "stdout",
     "output_type": "stream",
     "text": [
      "                                 SARIMAX Results                                 \n",
      "=================================================================================\n",
      "Dep. Variable:                     Close   No. Observations:                  707\n",
      "Model:             SARIMAX(0, 0, [1], 7)   Log Likelihood               -6026.643\n",
      "Date:                   Mon, 17 Mar 2025   AIC                          12063.285\n",
      "Time:                           18:39:57   BIC                          12086.090\n",
      "Sample:                       03-08-2023   HQIC                         12072.097\n",
      "                            - 02-11-2025                                         \n",
      "Covariance Type:                     opg                                         \n",
      "===============================================================================\n",
      "                  coef    std err          z      P>|z|      [0.025      0.975]\n",
      "-------------------------------------------------------------------------------\n",
      "MACD            0.8908      0.041     21.691      0.000       0.810       0.971\n",
      "EMA_7           0.8754      0.035     24.855      0.000       0.806       0.944\n",
      "Close_Lag_1     0.1231      0.035      3.484      0.000       0.054       0.192\n",
      "ma.S.L7        -0.1172      0.036     -3.286      0.001      -0.187      -0.047\n",
      "sigma2       1.515e+06   1.49e-08   1.02e+14      0.000    1.52e+06    1.52e+06\n",
      "===================================================================================\n",
      "Ljung-Box (L1) (Q):                 177.68   Jarque-Bera (JB):               352.88\n",
      "Prob(Q):                              0.00   Prob(JB):                         0.00\n",
      "Heteroskedasticity (H):               9.35   Skew:                            -0.02\n",
      "Prob(H) (two-sided):                  0.00   Kurtosis:                         6.46\n",
      "===================================================================================\n",
      "\n",
      "Warnings:\n",
      "[1] Covariance matrix calculated using the outer product of gradients (complex-step).\n",
      "[2] Covariance matrix is singular or near-singular, with condition number 1.24e+29. Standard errors may be unstable.\n"
     ]
    }
   ],
   "source": [
    "from statsmodels.tsa.statespace.sarimax import SARIMAX\n",
    "\n",
    "# Train the final optimized SARIMAX model\n",
    "sarimax_final = SARIMAX(close_prices, exog=exog_features,\n",
    "                        order=(0, 0, 0), seasonal_order=(0, 0, 1, 7))\n",
    "sarimax_result_final = sarimax_final.fit()\n",
    "\n",
    "# Print summary of the final model\n",
    "print(sarimax_result_final.summary())"
   ]
  },
  {
   "cell_type": "code",
   "execution_count": 7,
   "metadata": {},
   "outputs": [
    {
     "name": "stdout",
     "output_type": "stream",
     "text": [
      "📊 Final SARIMAX Performance Metrics: {'MAE': np.float64(1333.740809860995), 'MSE': np.float64(2758310.8447178006), 'RMSE': np.float64(1660.8163187775465), 'R-squared': 0.7453214774896733}\n"
     ]
    }
   ],
   "source": [
    "from sklearn.metrics import mean_absolute_error, mean_squared_error, r2_score\n",
    "import numpy as np\n",
    "\n",
    "# Forecast next 30 days\n",
    "sarimax_forecast = sarimax_result_final.forecast(steps=30, exog=exog_features.iloc[-30:])\n",
    "\n",
    "# Compute Performance Metrics\n",
    "mae_sarimax = mean_absolute_error(close_prices[-30:], sarimax_forecast)\n",
    "mse_sarimax = mean_squared_error(close_prices[-30:], sarimax_forecast)\n",
    "rmse_sarimax = np.sqrt(mse_sarimax)\n",
    "r2_sarimax = r2_score(close_prices[-30:], sarimax_forecast)\n",
    "\n",
    "sarimax_performance = {\n",
    "    \"MAE\": mae_sarimax,\n",
    "    \"MSE\": mse_sarimax,\n",
    "    \"RMSE\": rmse_sarimax,\n",
    "    \"R-squared\": r2_sarimax\n",
    "}\n",
    "\n",
    "print(\"📊 Final SARIMAX Performance Metrics:\", sarimax_performance)\n"
   ]
  },
  {
   "cell_type": "code",
   "execution_count": 16,
   "metadata": {},
   "outputs": [
    {
     "name": "stderr",
     "output_type": "stream",
     "text": [
      "WARNING:absl:Compiled the loaded model, but the compiled metrics have yet to be built. `model.compile_metrics` will be empty until you train or evaluate the model.\n"
     ]
    },
    {
     "name": "stdout",
     "output_type": "stream",
     "text": [
      "\u001b[1m1/1\u001b[0m \u001b[32m━━━━━━━━━━━━━━━━━━━━\u001b[0m\u001b[37m\u001b[0m \u001b[1m1s\u001b[0m 560ms/step\n"
     ]
    },
    {
     "data": {
      "image/png": "[encoded data removed]",
      "text/plain": [
       "<Figure size 1200x600 with 1 Axes>"
      ]
     },
     "metadata": {},
     "output_type": "display_data"
    }
   ],
   "source": [
    "import numpy as np\n",
    "import pandas as pd\n",
    "import matplotlib.pyplot as plt\n",
    "from tensorflow.keras.models import load_model\n",
    "from sklearn.preprocessing import MinMaxScaler\n",
    "\n",
    "# Load trained LSTM model\n",
    "lstm_model_path = \"C:/Users/anand/Documents/Capstone Files Dump/Test case 1/models/LSTM_Bitcoin.h5\"\n",
    "lstm_model = load_model(lstm_model_path)\n",
    "\n",
    "# Normalize data before feeding into LSTM\n",
    "features = ['Open', 'High', 'Low', 'Volume', 'VWAP', 'Volatility', 'Price_Change', 'RSI', 'MACD',\n",
    "            'MA_7', 'MA_14', 'EMA_7', 'EMA_14', 'Rolling_Std_7', 'Rolling_Std_14',\n",
    "            'Day_of_Week', 'Month', 'Week_of_Year', 'Close_Lag_1', 'Close_Lag_2', 'Close_Lag_3']\n",
    "scaler = MinMaxScaler(feature_range=(0, 1))\n",
    "scaled_data = scaler.fit_transform(bitcoin_df[features])\n",
    "\n",
    "# Prepare test data for LSTM\n",
    "look_back = 5\n",
    "test_scaled = scaled_data[-30:]  # Last 30 days for testing\n",
    "X_test = []\n",
    "for i in range(look_back, len(test_scaled)):\n",
    "    X_test.append(test_scaled[i - look_back:i, :])\n",
    "\n",
    "X_test = np.array(X_test)\n",
    "X_test = np.reshape(X_test, (X_test.shape[0], look_back, len(features)))\n",
    "\n",
    "# LSTM Predictions\n",
    "lstm_predictions = lstm_model.predict(X_test)\n",
    "\n",
    "# Inverse transform predictions\n",
    "lstm_predictions = scaler.inverse_transform(\n",
    "    np.concatenate([np.zeros((lstm_predictions.shape[0], len(features)-1)), lstm_predictions], axis=1)\n",
    ")[:, -1]  # Extract only Close Price\n",
    "\n",
    "# Generate future dates for plotting (30 days ahead)\n",
    "final_future_dates = pd.date_range(start=close_prices.index[-1], periods=30 + 1, freq='D')[1:]\n",
    "\n",
    "# Adjust test index for LSTM predictions (aligned with available test data)\n",
    "lstm_test_index = final_future_dates[look_back:]\n",
    "\n",
    "# Plot SARIMAX vs. LSTM vs. Actual Prices\n",
    "plt.figure(figsize=(12, 6))\n",
    "plt.plot(close_prices.index, close_prices, label=\"Actual Prices\", color='blue')\n",
    "plt.plot(final_future_dates, sarimax_forecast, label=\"Final SARIMAX Forecast\", color='orange')\n",
    "plt.plot(lstm_test_index, lstm_predictions, label=\"LSTM Predictions\", color='green')\n",
    "\n",
    "plt.xlabel('Date')\n",
    "plt.ylabel('Bitcoin Price (USD)')\n",
    "plt.title(\"Comparison: SARIMAX vs. LSTM vs. Actual Prices\")\n",
    "plt.legend()\n",
    "plt.grid()\n",
    "plt.show()\n"
   ]
  }
 ],
 "metadata": {
  "kernelspec": {
   "display_name": "Python 3",
   "language": "python",
   "name": "python3"
  },
  "language_info": {
   "codemirror_mode": {
    "name": "ipython",
    "version": 3
   },
   "file_extension": ".py",
   "mimetype": "text/x-python",
   "name": "python",
   "nbconvert_exporter": "python",
   "pygments_lexer": "ipython3",
   "version": "3.12.6"
  }
 },
 "nbformat": 4,
 "nbformat_minor": 2
}
