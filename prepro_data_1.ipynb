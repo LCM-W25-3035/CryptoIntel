{
  "nbformat": 4,
  "nbformat_minor": 0,
  "metadata": {
    "colab": {
      "provenance": []
    },
    "kernelspec": {
      "name": "python3",
      "display_name": "Python 3"
    },
    "language_info": {
      "name": "python"
    }
  },
  "cells": [
    {
      "cell_type": "code",
      "execution_count": 1,
      "metadata": {
        "id": "6mfU5tlzjxiu"
      },
      "outputs": [],
      "source": [
        "from pyspark.sql import SparkSession\n",
        "\n",
        "spark = SparkSession.builder \\\n",
        "    .appName(\"My Spark App\") \\\n",
        "    .getOrCreate()"
      ]
    },
    {
      "cell_type": "code",
      "source": [
        "import pandas as pd\n",
        "import matplotlib.pyplot as plt\n",
        "import seaborn as sns\n",
        "import numpy as np\n",
        "import io"
      ],
      "metadata": {
        "id": "acHtvQHBmAC7"
      },
      "execution_count": 9,
      "outputs": []
    },
    {
      "cell_type": "code",
      "source": [
        "# Load the dataset\n",
        "\n",
        "from google.colab import files\n",
        "uploaded = files.upload()"
      ],
      "metadata": {
        "colab": {
          "base_uri": "https://localhost:8080/",
          "height": 73
        },
        "id": "0HV8amXNmBmZ",
        "outputId": "777a1de4-2e31-4bcd-cda3-34bb9c855b8d"
      },
      "execution_count": 3,
      "outputs": [
        {
          "output_type": "display_data",
          "data": {
            "text/plain": [
              "<IPython.core.display.HTML object>"
            ],
            "text/html": [
              "\n",
              "     <input type=\"file\" id=\"files-907ad72a-5996-4dfe-9836-031e8605c30b\" name=\"files[]\" multiple disabled\n",
              "        style=\"border:none\" />\n",
              "     <output id=\"result-907ad72a-5996-4dfe-9836-031e8605c30b\">\n",
              "      Upload widget is only available when the cell has been executed in the\n",
              "      current browser session. Please rerun this cell to enable.\n",
              "      </output>\n",
              "      <script>// Copyright 2017 Google LLC\n",
              "//\n",
              "// Licensed under the Apache License, Version 2.0 (the \"License\");\n",
              "// you may not use this file except in compliance with the License.\n",
              "// You may obtain a copy of the License at\n",
              "//\n",
              "//      http://www.apache.org/licenses/LICENSE-2.0\n",
              "//\n",
              "// Unless required by applicable law or agreed to in writing, software\n",
              "// distributed under the License is distributed on an \"AS IS\" BASIS,\n",
              "// WITHOUT WARRANTIES OR CONDITIONS OF ANY KIND, either express or implied.\n",
              "// See the License for the specific language governing permissions and\n",
              "// limitations under the License.\n",
              "\n",
              "/**\n",
              " * @fileoverview Helpers for google.colab Python module.\n",
              " */\n",
              "(function(scope) {\n",
              "function span(text, styleAttributes = {}) {\n",
              "  const element = document.createElement('span');\n",
              "  element.textContent = text;\n",
              "  for (const key of Object.keys(styleAttributes)) {\n",
              "    element.style[key] = styleAttributes[key];\n",
              "  }\n",
              "  return element;\n",
              "}\n",
              "\n",
              "// Max number of bytes which will be uploaded at a time.\n",
              "const MAX_PAYLOAD_SIZE = 100 * 1024;\n",
              "\n",
              "function _uploadFiles(inputId, outputId) {\n",
              "  const steps = uploadFilesStep(inputId, outputId);\n",
              "  const outputElement = document.getElementById(outputId);\n",
              "  // Cache steps on the outputElement to make it available for the next call\n",
              "  // to uploadFilesContinue from Python.\n",
              "  outputElement.steps = steps;\n",
              "\n",
              "  return _uploadFilesContinue(outputId);\n",
              "}\n",
              "\n",
              "// This is roughly an async generator (not supported in the browser yet),\n",
              "// where there are multiple asynchronous steps and the Python side is going\n",
              "// to poll for completion of each step.\n",
              "// This uses a Promise to block the python side on completion of each step,\n",
              "// then passes the result of the previous step as the input to the next step.\n",
              "function _uploadFilesContinue(outputId) {\n",
              "  const outputElement = document.getElementById(outputId);\n",
              "  const steps = outputElement.steps;\n",
              "\n",
              "  const next = steps.next(outputElement.lastPromiseValue);\n",
              "  return Promise.resolve(next.value.promise).then((value) => {\n",
              "    // Cache the last promise value to make it available to the next\n",
              "    // step of the generator.\n",
              "    outputElement.lastPromiseValue = value;\n",
              "    return next.value.response;\n",
              "  });\n",
              "}\n",
              "\n",
              "/**\n",
              " * Generator function which is called between each async step of the upload\n",
              " * process.\n",
              " * @param {string} inputId Element ID of the input file picker element.\n",
              " * @param {string} outputId Element ID of the output display.\n",
              " * @return {!Iterable<!Object>} Iterable of next steps.\n",
              " */\n",
              "function* uploadFilesStep(inputId, outputId) {\n",
              "  const inputElement = document.getElementById(inputId);\n",
              "  inputElement.disabled = false;\n",
              "\n",
              "  const outputElement = document.getElementById(outputId);\n",
              "  outputElement.innerHTML = '';\n",
              "\n",
              "  const pickedPromise = new Promise((resolve) => {\n",
              "    inputElement.addEventListener('change', (e) => {\n",
              "      resolve(e.target.files);\n",
              "    });\n",
              "  });\n",
              "\n",
              "  const cancel = document.createElement('button');\n",
              "  inputElement.parentElement.appendChild(cancel);\n",
              "  cancel.textContent = 'Cancel upload';\n",
              "  const cancelPromise = new Promise((resolve) => {\n",
              "    cancel.onclick = () => {\n",
              "      resolve(null);\n",
              "    };\n",
              "  });\n",
              "\n",
              "  // Wait for the user to pick the files.\n",
              "  const files = yield {\n",
              "    promise: Promise.race([pickedPromise, cancelPromise]),\n",
              "    response: {\n",
              "      action: 'starting',\n",
              "    }\n",
              "  };\n",
              "\n",
              "  cancel.remove();\n",
              "\n",
              "  // Disable the input element since further picks are not allowed.\n",
              "  inputElement.disabled = true;\n",
              "\n",
              "  if (!files) {\n",
              "    return {\n",
              "      response: {\n",
              "        action: 'complete',\n",
              "      }\n",
              "    };\n",
              "  }\n",
              "\n",
              "  for (const file of files) {\n",
              "    const li = document.createElement('li');\n",
              "    li.append(span(file.name, {fontWeight: 'bold'}));\n",
              "    li.append(span(\n",
              "        `(${file.type || 'n/a'}) - ${file.size} bytes, ` +\n",
              "        `last modified: ${\n",
              "            file.lastModifiedDate ? file.lastModifiedDate.toLocaleDateString() :\n",
              "                                    'n/a'} - `));\n",
              "    const percent = span('0% done');\n",
              "    li.appendChild(percent);\n",
              "\n",
              "    outputElement.appendChild(li);\n",
              "\n",
              "    const fileDataPromise = new Promise((resolve) => {\n",
              "      const reader = new FileReader();\n",
              "      reader.onload = (e) => {\n",
              "        resolve(e.target.result);\n",
              "      };\n",
              "      reader.readAsArrayBuffer(file);\n",
              "    });\n",
              "    // Wait for the data to be ready.\n",
              "    let fileData = yield {\n",
              "      promise: fileDataPromise,\n",
              "      response: {\n",
              "        action: 'continue',\n",
              "      }\n",
              "    };\n",
              "\n",
              "    // Use a chunked sending to avoid message size limits. See b/62115660.\n",
              "    let position = 0;\n",
              "    do {\n",
              "      const length = Math.min(fileData.byteLength - position, MAX_PAYLOAD_SIZE);\n",
              "      const chunk = new Uint8Array(fileData, position, length);\n",
              "      position += length;\n",
              "\n",
              "      const base64 = btoa(String.fromCharCode.apply(null, chunk));\n",
              "      yield {\n",
              "        response: {\n",
              "          action: 'append',\n",
              "          file: file.name,\n",
              "          data: base64,\n",
              "        },\n",
              "      };\n",
              "\n",
              "      let percentDone = fileData.byteLength === 0 ?\n",
              "          100 :\n",
              "          Math.round((position / fileData.byteLength) * 100);\n",
              "      percent.textContent = `${percentDone}% done`;\n",
              "\n",
              "    } while (position < fileData.byteLength);\n",
              "  }\n",
              "\n",
              "  // All done.\n",
              "  yield {\n",
              "    response: {\n",
              "      action: 'complete',\n",
              "    }\n",
              "  };\n",
              "}\n",
              "\n",
              "scope.google = scope.google || {};\n",
              "scope.google.colab = scope.google.colab || {};\n",
              "scope.google.colab._files = {\n",
              "  _uploadFiles,\n",
              "  _uploadFilesContinue,\n",
              "};\n",
              "})(self);\n",
              "</script> "
            ]
          },
          "metadata": {}
        },
        {
          "output_type": "stream",
          "name": "stdout",
          "text": [
            "Saving cleaned_combined_crypto_data .csv to cleaned_combined_crypto_data .csv\n"
          ]
        }
      ]
    },
    {
      "cell_type": "code",
      "source": [],
      "metadata": {
        "id": "Wa49R2OmrbUC"
      },
      "execution_count": null,
      "outputs": []
    },
    {
      "cell_type": "code",
      "source": [
        " # Read the file into a pandas DataFrame\n",
        "df = pd.read_csv(\"cleaned_combined_crypto_data .csv\")"
      ],
      "metadata": {
        "id": "NLhOPfz-qbDG"
      },
      "execution_count": 10,
      "outputs": []
    },
    {
      "cell_type": "code",
      "source": [
        "#Adding a Spread Column\n",
        "# to calculate the price spread for each pair\n",
        "\n",
        "df['Spread'] = df['High'] - df['Low']"
      ],
      "metadata": {
        "id": "0U7fYOh3mBqP"
      },
      "execution_count": 12,
      "outputs": []
    },
    {
      "cell_type": "code",
      "source": [
        "print(df.head())"
      ],
      "metadata": {
        "colab": {
          "base_uri": "https://localhost:8080/"
        },
        "id": "T0TauryzmBuG",
        "outputId": "525727a0-0df3-484a-c0b5-c26bc5d7fe1a"
      },
      "execution_count": 13,
      "outputs": [
        {
          "output_type": "stream",
          "name": "stdout",
          "text": [
            "        Pair     High      Low  Last Price        Volume  \\\n",
            "0    Cardano     1.09     0.99        1.06  1.965847e+07   \n",
            "1   Polkadot     7.20     6.56        7.09  3.324909e+05   \n",
            "2   Ethereum  3473.02  3186.61     3427.90  1.469543e+04   \n",
            "3  Chainlink    22.15    20.11       21.76  2.528274e+05   \n",
            "4   Litecoin   118.76   100.79      115.96  3.331147e+04   \n",
            "\n",
            "                       Timestamp  Spread  \n",
            "0  2025-01-16 00:18:20.000000000    0.10  \n",
            "1  2025-01-16 00:18:20.000000000    0.64  \n",
            "2  2025-01-16 00:18:20.000000000  286.41  \n",
            "3  2025-01-16 00:18:20.000000000    2.04  \n",
            "4  2025-01-16 00:18:20.000000000   17.97  \n"
          ]
        }
      ]
    },
    {
      "cell_type": "code",
      "source": [
        "#Calculating the position of the Last Price within the range\n",
        "df['Position'] = (df['Last Price'] - df['Low']) / (df['High'] - df['Low'])\n"
      ],
      "metadata": {
        "id": "rDPCqIZ3mByC"
      },
      "execution_count": 14,
      "outputs": []
    },
    {
      "cell_type": "code",
      "source": [
        "print(df.head())"
      ],
      "metadata": {
        "colab": {
          "base_uri": "https://localhost:8080/"
        },
        "id": "zPJJ2Q2CmB1r",
        "outputId": "41067afc-a635-4f8a-efc3-3b0e6317ce73"
      },
      "execution_count": 15,
      "outputs": [
        {
          "output_type": "stream",
          "name": "stdout",
          "text": [
            "        Pair     High      Low  Last Price        Volume  \\\n",
            "0    Cardano     1.09     0.99        1.06  1.965847e+07   \n",
            "1   Polkadot     7.20     6.56        7.09  3.324909e+05   \n",
            "2   Ethereum  3473.02  3186.61     3427.90  1.469543e+04   \n",
            "3  Chainlink    22.15    20.11       21.76  2.528274e+05   \n",
            "4   Litecoin   118.76   100.79      115.96  3.331147e+04   \n",
            "\n",
            "                       Timestamp  Spread  Position  \n",
            "0  2025-01-16 00:18:20.000000000    0.10  0.700000  \n",
            "1  2025-01-16 00:18:20.000000000    0.64  0.828125  \n",
            "2  2025-01-16 00:18:20.000000000  286.41  0.842464  \n",
            "3  2025-01-16 00:18:20.000000000    2.04  0.808824  \n",
            "4  2025-01-16 00:18:20.000000000   17.97  0.844185  \n"
          ]
        }
      ]
    },
    {
      "cell_type": "code",
      "source": [
        "#To Compute the percentage volatility of each cryptocurrency\n",
        "\n",
        "df['Volatility'] = ((df['High'] - df['Low']) / df['Low']) * 100\n"
      ],
      "metadata": {
        "id": "saXy0G-yu-bN"
      },
      "execution_count": 16,
      "outputs": []
    },
    {
      "cell_type": "code",
      "source": [
        "print(df.head())"
      ],
      "metadata": {
        "colab": {
          "base_uri": "https://localhost:8080/"
        },
        "id": "PbIqw77avWf8",
        "outputId": "8beefe9a-9d99-4111-fcde-ce2cb64a8840"
      },
      "execution_count": 17,
      "outputs": [
        {
          "output_type": "stream",
          "name": "stdout",
          "text": [
            "        Pair     High      Low  Last Price        Volume  \\\n",
            "0    Cardano     1.09     0.99        1.06  1.965847e+07   \n",
            "1   Polkadot     7.20     6.56        7.09  3.324909e+05   \n",
            "2   Ethereum  3473.02  3186.61     3427.90  1.469543e+04   \n",
            "3  Chainlink    22.15    20.11       21.76  2.528274e+05   \n",
            "4   Litecoin   118.76   100.79      115.96  3.331147e+04   \n",
            "\n",
            "                       Timestamp  Spread  Position  Volatility  \n",
            "0  2025-01-16 00:18:20.000000000    0.10  0.700000   10.101010  \n",
            "1  2025-01-16 00:18:20.000000000    0.64  0.828125    9.756098  \n",
            "2  2025-01-16 00:18:20.000000000  286.41  0.842464    8.987921  \n",
            "3  2025-01-16 00:18:20.000000000    2.04  0.808824   10.144207  \n",
            "4  2025-01-16 00:18:20.000000000   17.97  0.844185   17.829150  \n"
          ]
        }
      ]
    },
    {
      "cell_type": "code",
      "source": [
        "#Extracting features like hour and minute from the Timestamp column\n",
        "\n",
        "# Convert 'Timestamp' column to datetime objects\n",
        "df['Timestamp'] = pd.to_datetime(df['Timestamp'])\n",
        "\n",
        "df['Hour'] = df['Timestamp'].dt.hour\n",
        "df['Minute'] = df['Timestamp'].dt.minute\n",
        "\n",
        "print(df.head())"
      ],
      "metadata": {
        "colab": {
          "base_uri": "https://localhost:8080/"
        },
        "id": "3uiLjXGMvWi0",
        "outputId": "8e1ef6d7-6f26-49dc-9753-4453015d86d6"
      },
      "execution_count": 19,
      "outputs": [
        {
          "output_type": "stream",
          "name": "stdout",
          "text": [
            "        Pair     High      Low  Last Price        Volume           Timestamp  \\\n",
            "0    Cardano     1.09     0.99        1.06  1.965847e+07 2025-01-16 00:18:20   \n",
            "1   Polkadot     7.20     6.56        7.09  3.324909e+05 2025-01-16 00:18:20   \n",
            "2   Ethereum  3473.02  3186.61     3427.90  1.469543e+04 2025-01-16 00:18:20   \n",
            "3  Chainlink    22.15    20.11       21.76  2.528274e+05 2025-01-16 00:18:20   \n",
            "4   Litecoin   118.76   100.79      115.96  3.331147e+04 2025-01-16 00:18:20   \n",
            "\n",
            "   Spread  Position  Volatility  Hour  Minute  \n",
            "0    0.10  0.700000   10.101010     0      18  \n",
            "1    0.64  0.828125    9.756098     0      18  \n",
            "2  286.41  0.842464    8.987921     0      18  \n",
            "3    2.04  0.808824   10.144207     0      18  \n",
            "4   17.97  0.844185   17.829150     0      18  \n"
          ]
        }
      ]
    },
    {
      "cell_type": "code",
      "source": [
        "#Computing rolling averages for prices or volume over a time window:\n",
        "\n",
        "df['Rolling_Avg_Volume'] = df['Volume'].rolling(window=3).mean()\n",
        "\n",
        "print(df.head())"
      ],
      "metadata": {
        "colab": {
          "base_uri": "https://localhost:8080/"
        },
        "id": "ZXGPkgB8vWli",
        "outputId": "71911ec4-ad4f-4aaf-ce8c-b4a21b5c35b9"
      },
      "execution_count": 21,
      "outputs": [
        {
          "output_type": "stream",
          "name": "stdout",
          "text": [
            "        Pair     High      Low  Last Price        Volume           Timestamp  \\\n",
            "0    Cardano     1.09     0.99        1.06  1.965847e+07 2025-01-16 00:18:20   \n",
            "1   Polkadot     7.20     6.56        7.09  3.324909e+05 2025-01-16 00:18:20   \n",
            "2   Ethereum  3473.02  3186.61     3427.90  1.469543e+04 2025-01-16 00:18:20   \n",
            "3  Chainlink    22.15    20.11       21.76  2.528274e+05 2025-01-16 00:18:20   \n",
            "4   Litecoin   118.76   100.79      115.96  3.331147e+04 2025-01-16 00:18:20   \n",
            "\n",
            "   Spread  Position  Volatility  Hour  Minute  Rolling_Avg_Volume  \n",
            "0    0.10  0.700000   10.101010     0      18                 NaN  \n",
            "1    0.64  0.828125    9.756098     0      18                 NaN  \n",
            "2  286.41  0.842464    8.987921     0      18        6.668551e+06  \n",
            "3    2.04  0.808824   10.144207     0      18        2.000046e+05  \n",
            "4   17.97  0.844185   17.829150     0      18        1.002781e+05  \n"
          ]
        }
      ]
    },
    {
      "cell_type": "code",
      "source": [
        "#Apply log transformation to the Volume column to reduce skewness\n",
        "\n",
        "df['Log_Volume'] = np.log1p(df['Volume'])\n",
        "\n",
        "print(df.head())"
      ],
      "metadata": {
        "colab": {
          "base_uri": "https://localhost:8080/"
        },
        "id": "9IRZLcauvWoP",
        "outputId": "06ad3033-48a6-4e90-db66-e02576520177"
      },
      "execution_count": 23,
      "outputs": [
        {
          "output_type": "stream",
          "name": "stdout",
          "text": [
            "        Pair     High      Low  Last Price        Volume           Timestamp  \\\n",
            "0    Cardano     1.09     0.99        1.06  1.965847e+07 2025-01-16 00:18:20   \n",
            "1   Polkadot     7.20     6.56        7.09  3.324909e+05 2025-01-16 00:18:20   \n",
            "2   Ethereum  3473.02  3186.61     3427.90  1.469543e+04 2025-01-16 00:18:20   \n",
            "3  Chainlink    22.15    20.11       21.76  2.528274e+05 2025-01-16 00:18:20   \n",
            "4   Litecoin   118.76   100.79      115.96  3.331147e+04 2025-01-16 00:18:20   \n",
            "\n",
            "   Spread  Position  Volatility  Hour  Minute  Rolling_Avg_Volume  Log_Volume  \n",
            "0    0.10  0.700000   10.101010     0      18                 NaN   16.794019  \n",
            "1    0.64  0.828125    9.756098     0      18                 NaN   12.714371  \n",
            "2  286.41  0.842464    8.987921     0      18        6.668551e+06    9.595360  \n",
            "3    2.04  0.808824   10.144207     0      18        2.000046e+05   12.440466  \n",
            "4   17.97  0.844185   17.829150     0      18        1.002781e+05   10.413687  \n"
          ]
        }
      ]
    },
    {
      "cell_type": "code",
      "source": [
        "#Checking for missing values\n",
        "\n",
        "print(df.isnull().sum())"
      ],
      "metadata": {
        "colab": {
          "base_uri": "https://localhost:8080/"
        },
        "id": "aOpc_dbQvWqz",
        "outputId": "bf2032c7-9290-41c3-a53d-3a693a3c0853"
      },
      "execution_count": 25,
      "outputs": [
        {
          "output_type": "stream",
          "name": "stdout",
          "text": [
            "Pair                  0\n",
            "High                  0\n",
            "Low                   0\n",
            "Last Price            0\n",
            "Volume                0\n",
            "Timestamp             0\n",
            "Spread                0\n",
            "Position              0\n",
            "Volatility            0\n",
            "Hour                  0\n",
            "Minute                0\n",
            "Rolling_Avg_Volume    2\n",
            "Log_Volume            0\n",
            "dtype: int64\n"
          ]
        }
      ]
    },
    {
      "cell_type": "code",
      "source": [
        "#dropping the coloumns with NaN values\n",
        "df = df.dropna(axis=1)"
      ],
      "metadata": {
        "id": "qC6ogUY0vWtP"
      },
      "execution_count": 26,
      "outputs": []
    },
    {
      "cell_type": "code",
      "source": [
        "print(df.isnull().sum())"
      ],
      "metadata": {
        "colab": {
          "base_uri": "https://localhost:8080/"
        },
        "id": "nDeUsaoKvWwn",
        "outputId": "bb8c0722-9a4b-42f8-a448-5b096be628b9"
      },
      "execution_count": 28,
      "outputs": [
        {
          "output_type": "stream",
          "name": "stdout",
          "text": [
            "Pair          0\n",
            "High          0\n",
            "Low           0\n",
            "Last Price    0\n",
            "Volume        0\n",
            "Timestamp     0\n",
            "Spread        0\n",
            "Position      0\n",
            "Volatility    0\n",
            "Hour          0\n",
            "Minute        0\n",
            "Log_Volume    0\n",
            "dtype: int64\n"
          ]
        }
      ]
    }
  ]
}