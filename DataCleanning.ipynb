{
  "nbformat": 4,
  "nbformat_minor": 0,
  "metadata": {
    "colab": {
      "provenance": []
    },
    "kernelspec": {
      "name": "python3",
      "display_name": "Python 3"
    },
    "language_info": {
      "name": "python"
    }
  },
  "cells": [
    {
      "cell_type": "code",
      "execution_count": 1,
      "metadata": {
        "colab": {
          "base_uri": "https://localhost:8080/"
        },
        "id": "mqSkohoa3OUg",
        "outputId": "f9d3a98e-e002-4847-e93c-5aaa3ac82801"
      },
      "outputs": [
        {
          "output_type": "stream",
          "name": "stdout",
          "text": [
            "Pair          0\n",
            "High          0\n",
            "Low           0\n",
            "Last Price    0\n",
            "Volume        0\n",
            "Timestamp     0\n",
            "dtype: int64\n"
          ]
        },
        {
          "output_type": "stream",
          "name": "stderr",
          "text": [
            "<ipython-input-1-e8cd431a7f5d>:10: FutureWarning: DataFrame.fillna with 'method' is deprecated and will raise in a future version. Use obj.ffill() or obj.bfill() instead.\n",
            "  df.fillna(method='ffill', inplace=True)\n"
          ]
        }
      ],
      "source": [
        "import pandas as pd\n",
        "\n",
        "# Load the data\n",
        "df = pd.read_csv('/content/crypto_data_10.csv')\n",
        "\n",
        "# Check for missing values\n",
        "print(df.isnull().sum())\n",
        "\n",
        "# Handle missing values\n",
        "df.fillna(method='ffill', inplace=True)\n",
        "\n",
        "# Remove duplicates\n",
        "df.drop_duplicates(inplace=True)\n",
        "\n",
        "# Drop rows with missing values if needed\n",
        "df.dropna(inplace=True)\n"
      ]
    },
    {
      "cell_type": "code",
      "source": [
        "\n",
        "# Converts Unix timestamp to datetime\n",
        "\n",
        "df['Timestamp'] = pd.to_datetime(df['Timestamp'], unit='s')\n",
        "\n",
        "if 'Pair' in df.columns:\n",
        "    # Define the mapping for currency pairs\n",
        "    pair_mapping = {\n",
        "        \"XETHZUSD\": \"Ethereum\",\n",
        "        \"XXBTZUSD\": \"Bitcoin\",\n",
        "        \"XLTCZUSD\": \"Litecoin\",\n",
        "        \"XXRPZUSD\": \"Ripple\",\n",
        "        \"ADAUSD\": \"Cardano\",\n",
        "        \"XDGUSD\": \"Dogecoin\",\n",
        "        \"DOTUSD\": \"Polkadot\",\n",
        "        \"SOLUSD\": \"Solana\",\n",
        "        \"MATICUSD\": \"Polygon\",\n",
        "        \"LINKUSD\": \"Chainlink\",\n",
        "    }\n",
        "\n",
        "    # Replace the values in the pair column\n",
        "    df['Pair'] = df['Pair'].replace(pair_mapping)\n",
        "else:\n",
        "    print(\"Column 'Pair' not found. Skipping currency replacement.\")\n",
        "\n",
        "\n",
        "# Step 2: Remove rows with missing or invalid Timestamp values\n",
        "    data = data.dropna(subset=['Timestamp'])\n",
        "\n",
        "# Step 3: Sort the data by Timestamp in ascending order\n",
        "    data = data.sort_values(by='Timestamp')\n",
        "\n",
        "# Step 4: Reset the index after sorting\n",
        "    data.reset_index(drop=True, inplace=True)\n",
        "\n",
        "# Assuming `crypto_data` is your dataset\n",
        "    cleaned_data = clean_and_sort_data(crypto_data)\n",
        "\n",
        "# Check the cleaned data\n",
        "    print(cleaned_data.head())\n"
      ],
      "metadata": {
        "id": "3fzNH5Sr6efP"
      },
      "execution_count": 2,
      "outputs": []
    },
    {
      "cell_type": "code",
      "source": [
        "# Converts Unix timestamp to datetime\n",
        "\n",
        "df['Timestamp'] = pd.to_datetime(df['Timestamp'], unit='s')\n"
      ],
      "metadata": {
        "id": "CZggBgncQFux"
      },
      "execution_count": 3,
      "outputs": []
    },
    {
      "cell_type": "code",
      "source": [
        "# Ensure the 'Last Price' column is of type float and then format it\n",
        "# Convert to float if necessary\n",
        "df['Last Price'] = df['Last Price'].astype(float)\n",
        "\n",
        "# Format the 'Last Price','Low','High' values to display as currency\n",
        "df['Last Price'] = df['Last Price'].apply(lambda x: f\"{x:.2f}\")\n",
        "df['Low'] = df['Low'].apply(lambda x: f\"{x:.2f}\")\n",
        "df['High'] = df['High'].apply(lambda x: f\"{x:.2f}\")\n",
        "\n",
        "print(df)\n",
        "\n"
      ],
      "metadata": {
        "colab": {
          "base_uri": "https://localhost:8080/"
        },
        "id": "ELc_uXxE6jJ2",
        "outputId": "a752a7f6-3d93-4696-ea66-e9cea76e386a"
      },
      "execution_count": 4,
      "outputs": [
        {
          "output_type": "stream",
          "name": "stdout",
          "text": [
            "           Pair       High        Low Last Price        Volume  \\\n",
            "0       Cardano       1.03       0.98       0.99  1.108946e+07   \n",
            "1      Polkadot       6.84       6.49       6.51  3.627704e+05   \n",
            "2      Ethereum    3364.82    3270.00    3278.09  1.725191e+04   \n",
            "3     Chainlink      27.20      25.33      25.38  4.411914e+05   \n",
            "4      Litecoin     122.61     114.74     115.73  3.082486e+04   \n",
            "...         ...        ...        ...        ...           ...   \n",
            "2125    Polygon       0.46       0.44       0.45  4.824062e+05   \n",
            "2126     Solana     264.61     246.75     255.82  2.970344e+05   \n",
            "2127    Bitcoin  107138.60  103271.30  104499.90  1.589566e+03   \n",
            "2128   Dogecoin       0.39       0.36       0.36  6.429068e+07   \n",
            "2129     Ripple       3.26       3.13       3.17  2.772537e+07   \n",
            "\n",
            "                         Timestamp  \n",
            "0    2025-01-22 15:46:44.456218719  \n",
            "1    2025-01-22 15:46:44.456223249  \n",
            "2    2025-01-22 15:46:44.456227303  \n",
            "3    2025-01-22 15:46:44.456229687  \n",
            "4    2025-01-22 15:46:44.456231594  \n",
            "...                            ...  \n",
            "2125 2025-01-22 19:19:39.536428690  \n",
            "2126 2025-01-22 19:19:39.536429881  \n",
            "2127 2025-01-22 19:19:39.536431074  \n",
            "2128 2025-01-22 19:19:39.536432504  \n",
            "2129 2025-01-22 19:19:39.536433220  \n",
            "\n",
            "[2130 rows x 6 columns]\n"
          ]
        }
      ]
    },
    {
      "cell_type": "code",
      "source": [
        "# Save the cleaned Data\n",
        "df.to_csv(\"cleaned_combined_crypto_data.csv\", index=False)\n",
        "print(\"Cleaned data saved to 'cleaned_combined_crypto_data.csv'\")\n"
      ],
      "metadata": {
        "colab": {
          "base_uri": "https://localhost:8080/"
        },
        "id": "qTVfqA4B6rIS",
        "outputId": "35a3f9e9-e3eb-420f-d5ba-a1d469f97ec5"
      },
      "execution_count": null,
      "outputs": [
        {
          "output_type": "stream",
          "name": "stdout",
          "text": [
            "Cleaned data saved to 'cleaned_combined_crypto_data.csv'\n"
          ]
        }
      ]
    }
  ]
}