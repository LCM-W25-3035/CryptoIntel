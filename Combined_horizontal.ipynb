{
  "nbformat": 4,
  "nbformat_minor": 0,
  "metadata": {
    "colab": {
      "provenance": []
    },
    "kernelspec": {
      "name": "python3",
      "display_name": "Python 3"
    },
    "language_info": {
      "name": "python"
    }
  },
  "cells": [
    {
      "cell_type": "code",
      "execution_count": null,
      "metadata": {
        "colab": {
          "base_uri": "https://localhost:8080/"
        },
        "id": "SFJcD8bE09zD",
        "outputId": "9a4fd89b-2ba0-4ffc-e5fe-8b340aa8e408"
      },
      "outputs": [
        {
          "output_type": "stream",
          "name": "stdout",
          "text": [
            "   Timestamp  ADA_Open  BTC_Open  DOT_Open  ETH_Open  LTC_Open  SOL_Open  \\\n",
            "0 2023-02-23  0.389023   24187.7    7.1842   1643.40     95.25     24.16   \n",
            "1 2023-02-24  0.382042   23946.4    7.1012   1650.54     94.62     23.92   \n",
            "2 2023-02-25  0.365665   23193.7    6.6128   1607.86     91.58     23.08   \n",
            "3 2023-02-26  0.361328   23167.3    6.5398   1594.51     93.20     22.38   \n",
            "4 2023-02-27  0.369064   23564.4    6.6926   1641.64     95.30     23.26   \n",
            "\n",
            "   XRP_Open  ADA_High  BTC_High  ...   LTC_MA_7  SOL_MA_7  XRP_MA_7  \\\n",
            "0   0.39527  0.394586   24602.8  ...  94.620000    23.920  0.388320   \n",
            "1   0.38833  0.385276   24134.3  ...  93.100000    23.500  0.383335   \n",
            "2   0.37812  0.367403   23224.9  ...  93.143333    23.120  0.381510   \n",
            "3   0.37785  0.369931   23685.1  ...  93.672500    23.160  0.380617   \n",
            "4   0.37787  0.369900   23885.4  ...  93.766000    23.062  0.380236   \n",
            "\n",
            "   ADA_MA_14  BTC_MA_14  DOT_MA_14  ETH_MA_14  LTC_MA_14  SOL_MA_14  XRP_MA_14  \n",
            "0   0.382747   23942.40   7.102000   1650.540  94.620000     23.920   0.388320  \n",
            "1   0.374134   23568.10   6.858050   1629.205  93.100000     23.500   0.383335  \n",
            "2   0.370163   23434.50   6.753467   1617.740  93.143333     23.120   0.381510  \n",
            "3   0.369797   23467.00   6.738275   1623.690  93.672500     23.160   0.380617  \n",
            "4   0.368778   23472.48   6.706600   1625.652  93.766000     23.062   0.380236  \n",
            "\n",
            "[5 rows x 85 columns]\n"
          ]
        }
      ],
      "source": [
        "import pandas as pd\n",
        "\n",
        "# Load the dataset\n",
        "file_path = \"/content/cryptodata_processed (1).csv\"  # Update with actual file path\n",
        "df = pd.read_csv(file_path)\n",
        "\n",
        "# Define a mapping for cryptocurrency short names\n",
        "crypto_short = {\n",
        "    \"Bitcoin\": \"BTC\",\n",
        "    \"Ethereum\": \"ETH\",\n",
        "    \"Ripple\": \"XRP\",\n",
        "    \"Litecoin\": \"LTC\",\n",
        "    \"Cardano\": \"ADA\",\n",
        "    \"Polkadot\": \"DOT\",\n",
        "    \"BinanceCoin\": \"BNB\",\n",
        "    \"Solana\": \"SOL\"\n",
        "}\n",
        "\n",
        "# Convert Timestamp to datetime and sort\n",
        "df[\"Timestamp\"] = pd.to_datetime(df[\"Timestamp\"], format=\"%d/%m/%Y\")\n",
        "df = df.sort_values(\"Timestamp\")\n",
        "\n",
        "# Map crypto names to short forms and drop rows without a mapping\n",
        "df[\"Crypto\"] = df[\"Crypto\"].map(crypto_short)\n",
        "df = df.dropna(subset=[\"Crypto\"])\n",
        "\n",
        "# Pivot the table to have each cryptocurrency's features in columns\n",
        "df_pivot = df.pivot(index=\"Timestamp\", columns=\"Crypto\").reset_index()\n",
        "\n",
        "# Flatten the MultiIndex column names\n",
        "df_pivot.columns = [f\"{crypto}_{col}\" if crypto else col for col, crypto in df_pivot.columns]\n",
        "\n",
        "# Ensure Timestamp remains a single column\n",
        "df_pivot = df_pivot.rename(columns={\"Timestamp_\": \"Timestamp\"})\n",
        "\n",
        "# Save or display the transformed dataset\n",
        "df_pivot.to_csv(\"transformed_cryptos_horizontal.csv\", index=False)\n",
        "print(df_pivot.head())\n",
        "\n"
      ]
    }
  ]
}