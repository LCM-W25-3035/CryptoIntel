{
  "nbformat": 4,
  "nbformat_minor": 0,
  "metadata": {
    "colab": {
      "provenance": []
    },
    "kernelspec": {
      "name": "python3",
      "display_name": "Python 3"
    },
    "language_info": {
      "name": "python"
    }
  },
  "cells": [
    {
      "cell_type": "markdown",
      "source": [
        "Data Cleaning"
      ],
      "metadata": {
        "id": "fnO9o7uuBlz2"
      }
    },
    {
      "cell_type": "code",
      "execution_count": 20,
      "metadata": {
        "id": "cJBLyR6XY3ka",
        "colab": {
          "base_uri": "https://localhost:8080/"
        },
        "outputId": "77dfe70f-afc2-4b49-847c-8d2f769f142e"
      },
      "outputs": [
        {
          "output_type": "stream",
          "name": "stdout",
          "text": [
            "               Timestamp           Open           High            Low  \\\n",
            "0    2025-01-20 19:00:00  103826.800000  103826.800000  103009.900000   \n",
            "1    2025-01-20 19:30:00  103109.400000  103849.900000  102694.200000   \n",
            "2    2025-01-20 20:00:00  103584.000000  104183.600000  103318.200000   \n",
            "3    2025-01-20 20:30:00  103862.400000  104215.900000  103580.000000   \n",
            "4    2025-01-20 21:00:00  103580.100000  103904.600000  103514.800000   \n",
            "...                  ...            ...            ...            ...   \n",
            "8265 2025-02-06 22:00:00       0.248447       0.248447       0.246490   \n",
            "8266 2025-02-06 22:30:00       0.247928       0.250632       0.247546   \n",
            "8267 2025-02-06 23:00:00       0.250090       0.250525       0.248840   \n",
            "8268 2025-02-06 23:30:00       0.248054       0.248104       0.246156   \n",
            "8269 2025-02-07 00:00:00       0.248000       0.251778       0.247558   \n",
            "\n",
            "              Close           VWAP        Volume  Count    Crypto  \n",
            "0     103101.400000  103348.500000  3.771559e+01   1264   Bitcoin  \n",
            "1     103626.700000  103126.400000  5.142342e+01   1070   Bitcoin  \n",
            "2     103871.000000  103639.500000  7.302923e+01   1122   Bitcoin  \n",
            "3     103580.100000  103847.100000  3.326903e+01    753   Bitcoin  \n",
            "4     103598.300000  103705.100000  7.143963e+01    922   Bitcoin  \n",
            "...             ...            ...           ...    ...       ...  \n",
            "8265       0.248342       0.247272  2.440724e+05    173  Dogecoin  \n",
            "8266       0.250196       0.248606  7.124162e+05    292  Dogecoin  \n",
            "8267       0.248840       0.250109  2.152894e+06    149  Dogecoin  \n",
            "8268       0.248076       0.247110  1.449493e+06    263  Dogecoin  \n",
            "8269       0.250937       0.250740  7.566970e+05    223  Dogecoin  \n",
            "\n",
            "[8270 rows x 9 columns]\n"
          ]
        },
        {
          "output_type": "stream",
          "name": "stderr",
          "text": [
            "<ipython-input-20-831a01688c67>:8: UserWarning: Parsing dates in %d/%m/%Y %H:%M format when dayfirst=False (the default) was specified. Pass `dayfirst=True` or specify a format to silence this warning.\n",
            "  df['Timestamp'] = pd.to_datetime(df['Timestamp'])\n"
          ]
        }
      ],
      "source": [
        "import pandas as pd\n",
        "\n",
        "# Load dataset\n",
        "file_path = \"/content/crypto_data (2).csv\"\n",
        "df = pd.read_csv(file_path)\n",
        "\n",
        "# Convert Timestamp to datetime\n",
        "df['Timestamp'] = pd.to_datetime(df['Timestamp'])\n",
        "print(df)"
      ]
    },
    {
      "cell_type": "code",
      "source": [
        "# Remove duplicates (if any)\n",
        "df = df.drop_duplicates()\n",
        "print(df)"
      ],
      "metadata": {
        "id": "bK9zZmWoafRN",
        "colab": {
          "base_uri": "https://localhost:8080/"
        },
        "outputId": "ef3a8b6c-7027-45fb-ced1-dae4a0c9b94d"
      },
      "execution_count": 2,
      "outputs": [
        {
          "output_type": "stream",
          "name": "stdout",
          "text": [
            "               Timestamp           Open           High            Low  \\\n",
            "0    2025-01-20 19:00:00  103826.800000  103826.800000  103009.900000   \n",
            "1    2025-01-20 19:30:00  103109.400000  103849.900000  102694.200000   \n",
            "2    2025-01-20 20:00:00  103584.000000  104183.600000  103318.200000   \n",
            "3    2025-01-20 20:30:00  103862.400000  104215.900000  103580.000000   \n",
            "4    2025-01-20 21:00:00  103580.100000  103904.600000  103514.800000   \n",
            "...                  ...            ...            ...            ...   \n",
            "8265 2025-02-06 22:00:00       0.248447       0.248447       0.246490   \n",
            "8266 2025-02-06 22:30:00       0.247928       0.250632       0.247546   \n",
            "8267 2025-02-06 23:00:00       0.250090       0.250525       0.248840   \n",
            "8268 2025-02-06 23:30:00       0.248054       0.248104       0.246156   \n",
            "8269 2025-02-07 00:00:00       0.248000       0.251778       0.247558   \n",
            "\n",
            "              Close           VWAP        Volume  Count    Crypto  \n",
            "0     103101.400000  103348.500000  3.771559e+01   1264   Bitcoin  \n",
            "1     103626.700000  103126.400000  5.142342e+01   1070   Bitcoin  \n",
            "2     103871.000000  103639.500000  7.302923e+01   1122   Bitcoin  \n",
            "3     103580.100000  103847.100000  3.326903e+01    753   Bitcoin  \n",
            "4     103598.300000  103705.100000  7.143963e+01    922   Bitcoin  \n",
            "...             ...            ...           ...    ...       ...  \n",
            "8265       0.248342       0.247272  2.440724e+05    173  Dogecoin  \n",
            "8266       0.250196       0.248606  7.124162e+05    292  Dogecoin  \n",
            "8267       0.248840       0.250109  2.152894e+06    149  Dogecoin  \n",
            "8268       0.248076       0.247110  1.449493e+06    263  Dogecoin  \n",
            "8269       0.250937       0.250740  7.566970e+05    223  Dogecoin  \n",
            "\n",
            "[8270 rows x 9 columns]\n"
          ]
        }
      ]
    },
    {
      "cell_type": "code",
      "source": [
        "# Handle missing values (if any)\n",
        "df = df.dropna()\n",
        "print(df)"
      ],
      "metadata": {
        "id": "T8E9dbs9ajJz",
        "colab": {
          "base_uri": "https://localhost:8080/"
        },
        "outputId": "7a23fb13-ae8d-4a73-c466-10594f3be14d"
      },
      "execution_count": 3,
      "outputs": [
        {
          "output_type": "stream",
          "name": "stdout",
          "text": [
            "               Timestamp           Open           High            Low  \\\n",
            "0    2025-01-20 19:00:00  103826.800000  103826.800000  103009.900000   \n",
            "1    2025-01-20 19:30:00  103109.400000  103849.900000  102694.200000   \n",
            "2    2025-01-20 20:00:00  103584.000000  104183.600000  103318.200000   \n",
            "3    2025-01-20 20:30:00  103862.400000  104215.900000  103580.000000   \n",
            "4    2025-01-20 21:00:00  103580.100000  103904.600000  103514.800000   \n",
            "...                  ...            ...            ...            ...   \n",
            "8265 2025-02-06 22:00:00       0.248447       0.248447       0.246490   \n",
            "8266 2025-02-06 22:30:00       0.247928       0.250632       0.247546   \n",
            "8267 2025-02-06 23:00:00       0.250090       0.250525       0.248840   \n",
            "8268 2025-02-06 23:30:00       0.248054       0.248104       0.246156   \n",
            "8269 2025-02-07 00:00:00       0.248000       0.251778       0.247558   \n",
            "\n",
            "              Close           VWAP        Volume  Count    Crypto  \n",
            "0     103101.400000  103348.500000  3.771559e+01   1264   Bitcoin  \n",
            "1     103626.700000  103126.400000  5.142342e+01   1070   Bitcoin  \n",
            "2     103871.000000  103639.500000  7.302923e+01   1122   Bitcoin  \n",
            "3     103580.100000  103847.100000  3.326903e+01    753   Bitcoin  \n",
            "4     103598.300000  103705.100000  7.143963e+01    922   Bitcoin  \n",
            "...             ...            ...           ...    ...       ...  \n",
            "8265       0.248342       0.247272  2.440724e+05    173  Dogecoin  \n",
            "8266       0.250196       0.248606  7.124162e+05    292  Dogecoin  \n",
            "8267       0.248840       0.250109  2.152894e+06    149  Dogecoin  \n",
            "8268       0.248076       0.247110  1.449493e+06    263  Dogecoin  \n",
            "8269       0.250937       0.250740  7.566970e+05    223  Dogecoin  \n",
            "\n",
            "[8270 rows x 9 columns]\n"
          ]
        }
      ]
    },
    {
      "cell_type": "code",
      "source": [
        "# Ensure correct data types\n",
        "df['Open'] = df['Open'].astype(float)\n",
        "df['High'] = df['High'].astype(float)\n",
        "df['Low'] = df['Low'].astype(float)\n",
        "df['Close'] = df['Close'].astype(float)\n",
        "df['VWAP'] = df['VWAP'].astype(float)\n",
        "df['Volume'] = df['Volume'].astype(float)\n",
        "df['Count'] = df['Count'].astype(int)\n",
        "df['Crypto'] = df['Crypto'].astype(str)\n",
        "print(df)"
      ],
      "metadata": {
        "id": "e4ft7jS-amlV",
        "colab": {
          "base_uri": "https://localhost:8080/"
        },
        "outputId": "8d475da0-a6c6-453c-ad9e-c5f82269db12"
      },
      "execution_count": 4,
      "outputs": [
        {
          "output_type": "stream",
          "name": "stdout",
          "text": [
            "               Timestamp           Open           High            Low  \\\n",
            "0    2025-01-20 19:00:00  103826.800000  103826.800000  103009.900000   \n",
            "1    2025-01-20 19:30:00  103109.400000  103849.900000  102694.200000   \n",
            "2    2025-01-20 20:00:00  103584.000000  104183.600000  103318.200000   \n",
            "3    2025-01-20 20:30:00  103862.400000  104215.900000  103580.000000   \n",
            "4    2025-01-20 21:00:00  103580.100000  103904.600000  103514.800000   \n",
            "...                  ...            ...            ...            ...   \n",
            "8265 2025-02-06 22:00:00       0.248447       0.248447       0.246490   \n",
            "8266 2025-02-06 22:30:00       0.247928       0.250632       0.247546   \n",
            "8267 2025-02-06 23:00:00       0.250090       0.250525       0.248840   \n",
            "8268 2025-02-06 23:30:00       0.248054       0.248104       0.246156   \n",
            "8269 2025-02-07 00:00:00       0.248000       0.251778       0.247558   \n",
            "\n",
            "              Close           VWAP        Volume  Count    Crypto  \n",
            "0     103101.400000  103348.500000  3.771559e+01   1264   Bitcoin  \n",
            "1     103626.700000  103126.400000  5.142342e+01   1070   Bitcoin  \n",
            "2     103871.000000  103639.500000  7.302923e+01   1122   Bitcoin  \n",
            "3     103580.100000  103847.100000  3.326903e+01    753   Bitcoin  \n",
            "4     103598.300000  103705.100000  7.143963e+01    922   Bitcoin  \n",
            "...             ...            ...           ...    ...       ...  \n",
            "8265       0.248342       0.247272  2.440724e+05    173  Dogecoin  \n",
            "8266       0.250196       0.248606  7.124162e+05    292  Dogecoin  \n",
            "8267       0.248840       0.250109  2.152894e+06    149  Dogecoin  \n",
            "8268       0.248076       0.247110  1.449493e+06    263  Dogecoin  \n",
            "8269       0.250937       0.250740  7.566970e+05    223  Dogecoin  \n",
            "\n",
            "[8270 rows x 9 columns]\n"
          ]
        }
      ]
    },
    {
      "cell_type": "code",
      "source": [
        "# Sort by Timestamp\n",
        "df = df.sort_values(by='Timestamp')\n",
        "print(df)"
      ],
      "metadata": {
        "colab": {
          "base_uri": "https://localhost:8080/"
        },
        "id": "clcryEDKavYR",
        "outputId": "9e4bfda0-419b-4dcf-ada2-cafb4a826a92"
      },
      "execution_count": 5,
      "outputs": [
        {
          "output_type": "stream",
          "name": "stdout",
          "text": [
            "               Timestamp           Open           High            Low  \\\n",
            "0    2025-01-20 19:00:00  103826.800000  103826.800000  103009.900000   \n",
            "6616 2025-01-20 19:00:00       3.188260       3.193940       3.135640   \n",
            "5789 2025-01-20 19:00:00     249.050000     249.380000     245.400000   \n",
            "7443 2025-01-20 19:00:00       0.363450       0.363450       0.355804   \n",
            "827  2025-01-20 19:00:00    3327.220000    3348.540000    3306.940000   \n",
            "...                  ...            ...            ...            ...   \n",
            "2480 2025-02-07 00:00:00       0.705129       0.720512       0.705129   \n",
            "1653 2025-02-07 00:00:00    2687.060000    2714.460000    2685.720000   \n",
            "826  2025-02-07 00:00:00   96558.500000   96871.800000   96558.400000   \n",
            "7442 2025-02-07 00:00:00       2.325640       2.348000       2.325100   \n",
            "8269 2025-02-07 00:00:00       0.248000       0.251778       0.247558   \n",
            "\n",
            "              Close           VWAP        Volume  Count    Crypto  \n",
            "0     103101.400000  103348.500000  3.771559e+01   1264   Bitcoin  \n",
            "6616       3.169740       3.160310  3.032510e+06   2723    Ripple  \n",
            "5789     245.810000     246.620000  6.466664e+03   1200    Solana  \n",
            "7443       0.358013       0.359863  2.104443e+06    658  Dogecoin  \n",
            "827     3340.010000    3324.710000  4.413857e+02    585  Ethereum  \n",
            "...             ...            ...           ...    ...       ...  \n",
            "2480       0.717179       0.714736  1.740300e+05    218   Cardano  \n",
            "1653    2708.770000    2702.680000  1.837311e+02    260  Ethereum  \n",
            "826    96779.800000   96766.300000  1.666374e+01    600   Bitcoin  \n",
            "7442       2.342230       2.339550  1.012758e+06   1167    Ripple  \n",
            "8269       0.250937       0.250740  7.566970e+05    223  Dogecoin  \n",
            "\n",
            "[8270 rows x 9 columns]\n"
          ]
        }
      ]
    },
    {
      "cell_type": "code",
      "source": [
        "# Save cleaned data\n",
        "df.to_csv(\"cleaned_crypto_data_main.csv\", index=False)\n",
        "\n",
        "print(\"Data cleaning Saved as 'cleaned_crypto_data_main.csv'\")"
      ],
      "metadata": {
        "colab": {
          "base_uri": "https://localhost:8080/"
        },
        "id": "TRdeqUAKaxUx",
        "outputId": "da6d7483-6619-45e0-f5ec-01ead0ec1549"
      },
      "execution_count": 6,
      "outputs": [
        {
          "output_type": "stream",
          "name": "stdout",
          "text": [
            "Data cleaning Saved as 'cleaned_crypto_data_main.csv'\n"
          ]
        }
      ]
    },
    {
      "cell_type": "code",
      "source": [
        "import numpy as np\n",
        "import matplotlib.pyplot as plt\n",
        "from sklearn.preprocessing import MinMaxScaler\n",
        "from tensorflow.keras.models import Sequential\n",
        "from tensorflow.keras.layers import LSTM, Dense, Dropout\n",
        "from tensorflow.keras.optimizers import Adam\n",
        "\n",
        "# Load Data\n",
        "file_path = '/content/cleaned_crypto_data_main.csv'\n",
        "df = pd.read_csv(file_path, parse_dates=['Timestamp'], index_col='Timestamp')\n"
      ],
      "metadata": {
        "id": "DYCzPKZj-Zhp"
      },
      "execution_count": 7,
      "outputs": []
    },
    {
      "cell_type": "code",
      "source": [
        "# Feature Engineering\n",
        "def add_technical_indicators(data):\n",
        "    data['MA_7'] = data['Close'].rolling(window=7).mean()\n",
        "    data['MA_21'] = data['Close'].rolling(window=21).mean()\n",
        "    data['Volatility'] = data['Close'].pct_change().rolling(10).std()\n",
        "    data['Momentum'] = data['Close'].diff(4)\n",
        "    data.dropna(inplace=True)\n",
        "    return data\n",
        "\n",
        "df = add_technical_indicators(df)\n",
        "print (df)"
      ],
      "metadata": {
        "colab": {
          "base_uri": "https://localhost:8080/"
        },
        "id": "NcMMohxD-pvY",
        "outputId": "c1b30479-ab0b-4cff-a5f1-acb58000f886"
      },
      "execution_count": 10,
      "outputs": [
        {
          "output_type": "stream",
          "name": "stdout",
          "text": [
            "                             Open          High           Low         Close  \\\n",
            "Timestamp                                                                     \n",
            "2025-01-21 00:30:00     24.617400     24.909560     24.296010     24.336220   \n",
            "2025-01-21 00:30:00    117.460000    119.060000    116.230000    116.230000   \n",
            "2025-01-21 01:00:00      0.991427      1.004697      0.988688      0.988689   \n",
            "2025-01-21 01:00:00      0.344021      0.350521      0.342500      0.342539   \n",
            "2025-01-21 01:00:00      3.129650      3.186490      3.112020      3.112020   \n",
            "...                           ...           ...           ...           ...   \n",
            "2025-02-07 00:00:00      0.705129      0.720512      0.705129      0.717179   \n",
            "2025-02-07 00:00:00   2687.060000   2714.460000   2685.720000   2708.770000   \n",
            "2025-02-07 00:00:00  96558.500000  96871.800000  96558.400000  96779.800000   \n",
            "2025-02-07 00:00:00      2.325640      2.348000      2.325100      2.342230   \n",
            "2025-02-07 00:00:00      0.248000      0.251778      0.247558      0.250937   \n",
            "\n",
            "                             VWAP        Volume  Count     Crypto  \\\n",
            "Timestamp                                                           \n",
            "2025-01-21 00:30:00     24.559670  1.312105e+04    460  Chainlink   \n",
            "2025-01-21 00:30:00    117.840000  1.275564e+03    731   Litecoin   \n",
            "2025-01-21 01:00:00      0.996447  1.212362e+05    215    Cardano   \n",
            "2025-01-21 01:00:00      0.346712  1.975579e+06   1099   Dogecoin   \n",
            "2025-01-21 01:00:00      3.153130  6.392349e+05   1722     Ripple   \n",
            "...                           ...           ...    ...        ...   \n",
            "2025-02-07 00:00:00      0.714736  1.740300e+05    218    Cardano   \n",
            "2025-02-07 00:00:00   2702.680000  1.837311e+02    260   Ethereum   \n",
            "2025-02-07 00:00:00  96766.300000  1.666374e+01    600    Bitcoin   \n",
            "2025-02-07 00:00:00      2.339550  1.012758e+06   1167     Ripple   \n",
            "2025-02-07 00:00:00      0.250740  7.566970e+05    223   Dogecoin   \n",
            "\n",
            "                             MA_7         MA_21    Volatility      Momentum  \n",
            "Timestamp                                                                    \n",
            "2025-01-21 00:30:00  14928.302287  10006.006959  10282.872536     23.901820  \n",
            "2025-01-21 00:30:00    514.220858  10011.239016  10282.654951   -118.670000  \n",
            "2025-01-21 01:00:00    514.220467  10005.644192  10282.699747      0.644729  \n",
            "2025-01-21 01:00:00    514.207344  10005.643813  10282.706712  -3221.967461  \n",
            "2025-01-21 01:00:00    481.094775  10000.196290   2947.861764    -21.224200  \n",
            "...                           ...           ...           ...           ...  \n",
            "2025-02-07 00:00:00     45.970528   4890.242214    309.022117   -191.072821  \n",
            "2025-02-07 00:00:00    432.605440   5019.217100   1182.701082   2708.470300  \n",
            "2025-02-07 00:00:00  14243.534011   9499.744719   1192.610328  96760.985300  \n",
            "2025-02-07 00:00:00  14216.470044   9495.026730   1189.511062     -2.204270  \n",
            "2025-02-07 00:00:00  14216.463078   9494.150970   1189.507139     -0.466242  \n",
            "\n",
            "[8152 rows x 12 columns]\n"
          ]
        }
      ]
    },
    {
      "cell_type": "code",
      "source": [
        "# Train/Test Split\n",
        "train_size = int(len(df) * 0.8)\n",
        "train, test = df.iloc[:train_size], df.iloc[train_size:]"
      ],
      "metadata": {
        "id": "-kw6tV3i_Z_x"
      },
      "execution_count": 11,
      "outputs": []
    },
    {
      "cell_type": "code",
      "source": [
        "# Normalize Data\n",
        "scaler = MinMaxScaler()\n",
        "data_scaled = scaler.fit_transform(df[['Close']])\n",
        "train_scaled, test_scaled = data_scaled[:train_size], data_scaled[train_size:]\n",
        "\n",
        "X_train, y_train, X_test, y_test = [], [], [], []\n",
        "for i in range(60, len(train_scaled)):\n",
        "    X_train.append(train_scaled[i-60:i])\n",
        "    y_train.append(train_scaled[i])\n",
        "for i in range(60, len(test_scaled)):\n",
        "    X_test.append(test_scaled[i-60:i])\n",
        "    y_test.append(test_scaled[i])\n",
        "\n",
        "X_train, y_train, X_test, y_test = np.array(X_train), np.array(y_train), np.array(X_test), np.array(y_test)\n"
      ],
      "metadata": {
        "id": "E2YWu2gF_d1a"
      },
      "execution_count": 15,
      "outputs": []
    },
    {
      "cell_type": "code",
      "source": [
        "# Build LSTM Model\n",
        "model = Sequential([\n",
        "    LSTM(50, return_sequences=True, input_shape=(X_train.shape[1], 1)),\n",
        "    Dropout(0.2),\n",
        "    LSTM(50, return_sequences=False),\n",
        "    Dropout(0.2),\n",
        "    Dense(25),\n",
        "    Dense(1)\n",
        "])\n",
        "\n",
        "model.compile(optimizer=Adam(learning_rate=0.001), loss='mean_squared_error')\n"
      ],
      "metadata": {
        "colab": {
          "base_uri": "https://localhost:8080/"
        },
        "id": "MboNc0bw_sXt",
        "outputId": "d942b9fa-f59f-4c9e-9ed7-cb1c77913be5"
      },
      "execution_count": 16,
      "outputs": [
        {
          "output_type": "stream",
          "name": "stderr",
          "text": [
            "/usr/local/lib/python3.11/dist-packages/keras/src/layers/rnn/rnn.py:200: UserWarning: Do not pass an `input_shape`/`input_dim` argument to a layer. When using Sequential models, prefer using an `Input(shape)` object as the first layer in the model instead.\n",
            "  super().__init__(**kwargs)\n"
          ]
        }
      ]
    },
    {
      "cell_type": "code",
      "source": [
        "# Train LSTM\n",
        "model.fit(X_train, y_train, epochs=20, batch_size=32, validation_data=(X_test, y_test))\n"
      ],
      "metadata": {
        "colab": {
          "base_uri": "https://localhost:8080/"
        },
        "id": "j11lRhDF_z18",
        "outputId": "d8a50e95-0cd5-49f1-b4ce-94d79c3fbb5a"
      },
      "execution_count": 17,
      "outputs": [
        {
          "output_type": "stream",
          "name": "stdout",
          "text": [
            "Epoch 1/20\n",
            "\u001b[1m202/202\u001b[0m \u001b[32m━━━━━━━━━━━━━━━━━━━━\u001b[0m\u001b[37m\u001b[0m \u001b[1m19s\u001b[0m 69ms/step - loss: 0.0780 - val_loss: 0.0686\n",
            "Epoch 2/20\n",
            "\u001b[1m202/202\u001b[0m \u001b[32m━━━━━━━━━━━━━━━━━━━━\u001b[0m\u001b[37m\u001b[0m \u001b[1m20s\u001b[0m 65ms/step - loss: 0.0716 - val_loss: 0.0692\n",
            "Epoch 3/20\n",
            "\u001b[1m202/202\u001b[0m \u001b[32m━━━━━━━━━━━━━━━━━━━━\u001b[0m\u001b[37m\u001b[0m \u001b[1m21s\u001b[0m 69ms/step - loss: 0.0732 - val_loss: 0.0657\n",
            "Epoch 4/20\n",
            "\u001b[1m202/202\u001b[0m \u001b[32m━━━━━━━━━━━━━━━━━━━━\u001b[0m\u001b[37m\u001b[0m \u001b[1m21s\u001b[0m 72ms/step - loss: 0.0712 - val_loss: 0.0668\n",
            "Epoch 5/20\n",
            "\u001b[1m202/202\u001b[0m \u001b[32m━━━━━━━━━━━━━━━━━━━━\u001b[0m\u001b[37m\u001b[0m \u001b[1m14s\u001b[0m 68ms/step - loss: 0.0787 - val_loss: 0.0659\n",
            "Epoch 6/20\n",
            "\u001b[1m202/202\u001b[0m \u001b[32m━━━━━━━━━━━━━━━━━━━━\u001b[0m\u001b[37m\u001b[0m \u001b[1m20s\u001b[0m 64ms/step - loss: 0.0698 - val_loss: 0.0658\n",
            "Epoch 7/20\n",
            "\u001b[1m202/202\u001b[0m \u001b[32m━━━━━━━━━━━━━━━━━━━━\u001b[0m\u001b[37m\u001b[0m \u001b[1m21s\u001b[0m 69ms/step - loss: 0.0731 - val_loss: 0.0653\n",
            "Epoch 8/20\n",
            "\u001b[1m202/202\u001b[0m \u001b[32m━━━━━━━━━━━━━━━━━━━━\u001b[0m\u001b[37m\u001b[0m \u001b[1m22s\u001b[0m 75ms/step - loss: 0.0699 - val_loss: 0.0665\n",
            "Epoch 9/20\n",
            "\u001b[1m202/202\u001b[0m \u001b[32m━━━━━━━━━━━━━━━━━━━━\u001b[0m\u001b[37m\u001b[0m \u001b[1m19s\u001b[0m 67ms/step - loss: 0.0726 - val_loss: 0.0673\n",
            "Epoch 10/20\n",
            "\u001b[1m202/202\u001b[0m \u001b[32m━━━━━━━━━━━━━━━━━━━━\u001b[0m\u001b[37m\u001b[0m \u001b[1m21s\u001b[0m 68ms/step - loss: 0.0706 - val_loss: 0.0658\n",
            "Epoch 11/20\n",
            "\u001b[1m202/202\u001b[0m \u001b[32m━━━━━━━━━━━━━━━━━━━━\u001b[0m\u001b[37m\u001b[0m \u001b[1m20s\u001b[0m 68ms/step - loss: 0.0724 - val_loss: 0.0676\n",
            "Epoch 12/20\n",
            "\u001b[1m202/202\u001b[0m \u001b[32m━━━━━━━━━━━━━━━━━━━━\u001b[0m\u001b[37m\u001b[0m \u001b[1m20s\u001b[0m 68ms/step - loss: 0.0735 - val_loss: 0.0706\n",
            "Epoch 13/20\n",
            "\u001b[1m202/202\u001b[0m \u001b[32m━━━━━━━━━━━━━━━━━━━━\u001b[0m\u001b[37m\u001b[0m \u001b[1m20s\u001b[0m 68ms/step - loss: 0.0751 - val_loss: 0.0644\n",
            "Epoch 14/20\n",
            "\u001b[1m202/202\u001b[0m \u001b[32m━━━━━━━━━━━━━━━━━━━━\u001b[0m\u001b[37m\u001b[0m \u001b[1m20s\u001b[0m 65ms/step - loss: 0.0731 - val_loss: 0.0655\n",
            "Epoch 15/20\n",
            "\u001b[1m202/202\u001b[0m \u001b[32m━━━━━━━━━━━━━━━━━━━━\u001b[0m\u001b[37m\u001b[0m \u001b[1m21s\u001b[0m 68ms/step - loss: 0.0713 - val_loss: 0.0686\n",
            "Epoch 16/20\n",
            "\u001b[1m202/202\u001b[0m \u001b[32m━━━━━━━━━━━━━━━━━━━━\u001b[0m\u001b[37m\u001b[0m \u001b[1m21s\u001b[0m 70ms/step - loss: 0.0748 - val_loss: 0.0648\n",
            "Epoch 17/20\n",
            "\u001b[1m202/202\u001b[0m \u001b[32m━━━━━━━━━━━━━━━━━━━━\u001b[0m\u001b[37m\u001b[0m \u001b[1m27s\u001b[0m 100ms/step - loss: 0.0693 - val_loss: 0.0666\n",
            "Epoch 18/20\n",
            "\u001b[1m202/202\u001b[0m \u001b[32m━━━━━━━━━━━━━━━━━━━━\u001b[0m\u001b[37m\u001b[0m \u001b[1m15s\u001b[0m 73ms/step - loss: 0.0718 - val_loss: 0.0663\n",
            "Epoch 19/20\n",
            "\u001b[1m202/202\u001b[0m \u001b[32m━━━━━━━━━━━━━━━━━━━━\u001b[0m\u001b[37m\u001b[0m \u001b[1m19s\u001b[0m 64ms/step - loss: 0.0739 - val_loss: 0.0753\n",
            "Epoch 20/20\n",
            "\u001b[1m202/202\u001b[0m \u001b[32m━━━━━━━━━━━━━━━━━━━━\u001b[0m\u001b[37m\u001b[0m \u001b[1m22s\u001b[0m 73ms/step - loss: 0.0762 - val_loss: 0.0653\n"
          ]
        },
        {
          "output_type": "execute_result",
          "data": {
            "text/plain": [
              "<keras.src.callbacks.history.History at 0x7860154acd10>"
            ]
          },
          "metadata": {},
          "execution_count": 17
        }
      ]
    },
    {
      "cell_type": "code",
      "source": [
        "# Predictions\n",
        "pred_lstm = model.predict(X_test)\n",
        "pred_lstm = scaler.inverse_transform(pred_lstm)\n",
        "print(pred_lstm)\n",
        "print(y_test)\n"
      ],
      "metadata": {
        "colab": {
          "base_uri": "https://localhost:8080/"
        },
        "id": "t-WfzbOg_4qJ",
        "outputId": "fee77e9b-e3ea-4913-d57b-e9feb29b46fc"
      },
      "execution_count": 22,
      "outputs": [
        {
          "output_type": "stream",
          "name": "stdout",
          "text": [
            "\u001b[1m50/50\u001b[0m \u001b[32m━━━━━━━━━━━━━━━━━━━━\u001b[0m\u001b[37m\u001b[0m \u001b[1m1s\u001b[0m 18ms/step\n",
            "[[ 8245.415 ]\n",
            " [10438.81  ]\n",
            " [ 1873.1047]\n",
            " ...\n",
            " [26357.193 ]\n",
            " [ 4119.286 ]\n",
            " [ 5431.217 ]]\n",
            "[[1.93292304e-03]\n",
            " [9.30842544e-01]\n",
            " [4.41519535e-05]\n",
            " ...\n",
            " [9.03938170e-01]\n",
            " [1.97958598e-05]\n",
            " [2.62816641e-07]]\n"
          ]
        }
      ]
    },
    {
      "cell_type": "code",
      "source": [
        "# Step 8: Evaluation\n",
        "mae = mean_absolute_error(y_test, pred_lstm)\n",
        "mse = mean_squared_error(y_test, pred_lstm)\n",
        "rmse = np.sqrt(mse)\n",
        "print(f\"MAE: {mae}, MSE: {mse}, RMSE: {rmse}\")"
      ],
      "metadata": {
        "colab": {
          "base_uri": "https://localhost:8080/"
        },
        "id": "qSK7qoY3FzLt",
        "outputId": "a63248d9-9024-41f1-ab41-b7b307984195"
      },
      "execution_count": 28,
      "outputs": [
        {
          "output_type": "stream",
          "name": "stdout",
          "text": [
            "MAE: 11705.392905727893, MSE: 226143670.17489365, RMSE: 15038.074018134557\n"
          ]
        }
      ]
    },
    {
      "cell_type": "code",
      "source": [
        "# Visualization\n",
        "plt.figure(figsize=(12,6))\n",
        "plt.plot(test.index[60:], test['Close'][60:], label='Actual Price')\n",
        "plt.plot(test.index[60:], pred_lstm, label='LSTM Forecast')\n",
        "plt.legend()\n",
        "plt.show()"
      ],
      "metadata": {
        "colab": {
          "base_uri": "https://localhost:8080/",
          "height": 537
        },
        "id": "W_TnR8kgBGTX",
        "outputId": "34a7e8b0-00e5-48fc-b572-b7657f621532"
      },
      "execution_count": 34,
      "outputs": [
        {
          "output_type": "display_data",
          "data": {
            "text/plain": [
              "<Figure size 1200x600 with 1 Axes>"
            ],
            "image/png": "[encoded data removed]"
          },
          "metadata": {}
        }
      ]
    }
  ]
}