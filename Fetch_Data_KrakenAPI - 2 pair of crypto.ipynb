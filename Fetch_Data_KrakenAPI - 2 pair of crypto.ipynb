{
  "nbformat": 4,
  "nbformat_minor": 0,
  "metadata": {
    "colab": {
      "provenance": []
    },
    "kernelspec": {
      "name": "python3",
      "display_name": "Python 3"
    },
    "language_info": {
      "name": "python"
    }
  },
  "cells": [
    {
      "cell_type": "code",
      "execution_count": 5,
      "metadata": {
        "id": "wlt0BUS3Hee0"
      },
      "outputs": [],
      "source": [
        "import requests\n",
        "import pandas as pd\n",
        "import time\n",
        "\n",
        "# Kraken API URL\n",
        "API_URL = \"https://api.kraken.com/0/public/Ticker\"\n",
        "pairs = [\"XETHZUSD\", \"XXBTZUSD\"]  # Example cryptocurrency pairs\n",
        "\n",
        "def fetch_ticker_data(pairs):\n",
        "    \"\"\"Fetch real-time ticker data from Kraken API.\"\"\"\n",
        "    try:\n",
        "        pair_string = \",\".join(pairs)\n",
        "        response = requests.get(f\"{API_URL}?pair={pair_string}\")\n",
        "        data = response.json()\n",
        "        if \"error\" in data and data[\"error\"]:\n",
        "            print(\"API Error:\", data[\"error\"])\n",
        "            return None\n",
        "        return data[\"result\"]\n",
        "    except Exception as e:\n",
        "        print(\"Error fetching data:\", e)\n",
        "    return None"
      ]
    },
    {
      "cell_type": "code",
      "source": [
        "def process_ticker_data(data):\n",
        "    \"\"\"Process the raw API data into a structured format for CSV.\"\"\"\n",
        "    rows = []\n",
        "    for pair, details in data.items():\n",
        "        rows.append({\n",
        "            \"Pair\": pair,\n",
        "            \"High\": details[\"h\"][1],\n",
        "            \"Low\": details[\"l\"][1],\n",
        "            \"Last Price\": details[\"c\"][0],\n",
        "            \"Volume\": details[\"v\"][1],\n",
        "            \"Timestamp\": time.time()  # Store timestamp for reference\n",
        "        })\n",
        "    return rows"
      ],
      "metadata": {
        "id": "b08ysdGVIjR_"
      },
      "execution_count": 6,
      "outputs": []
    },
    {
      "cell_type": "code",
      "source": [
        "def save_to_csv(data, filename=\"crypto_data.csv\"):\n",
        "    \"\"\"Save processed data to a CSV file.\"\"\"\n",
        "    df = pd.DataFrame(data)\n",
        "    try:\n",
        "        # Append data to the CSV file without overwriting\n",
        "        df.to_csv(filename, mode='a', header=not pd.io.common.file_exists(filename), index=False)\n",
        "    except Exception as e:\n",
        "        print(\"Error saving to CSV:\", e)"
      ],
      "metadata": {
        "id": "ypxO1Ow1NeUa"
      },
      "execution_count": 7,
      "outputs": []
    },
    {
      "cell_type": "code",
      "source": [
        "while True:\n",
        "    # Fetch data from the API\n",
        "    ticker_data = fetch_ticker_data(pairs)\n",
        "    if ticker_data:\n",
        "        # Process the data for CSV\n",
        "        processed_data = process_ticker_data(ticker_data)\n",
        "        # Save the data to CSV\n",
        "        save_to_csv(processed_data)\n",
        "        print(\"Data saved to CSV.\")\n",
        "\n",
        "    # Wait for 1 minute before the next fetch\n",
        "    time.sleep(10)"
      ],
      "metadata": {
        "colab": {
          "base_uri": "https://localhost:8080/"
        },
        "id": "oJRWH-s4wNtn",
        "outputId": "7d476fa1-619d-4513-d0ba-0d7d9ead8539"
      },
      "execution_count": null,
      "outputs": [
        {
          "output_type": "stream",
          "name": "stdout",
          "text": [
            "Data saved to CSV.\n",
            "Data saved to CSV.\n",
            "Data saved to CSV.\n",
            "Data saved to CSV.\n",
            "Data saved to CSV.\n",
            "Data saved to CSV.\n",
            "Data saved to CSV.\n",
            "Data saved to CSV.\n",
            "Data saved to CSV.\n",
            "Data saved to CSV.\n",
            "Data saved to CSV.\n",
            "Data saved to CSV.\n",
            "Data saved to CSV.\n",
            "Data saved to CSV.\n",
            "Data saved to CSV.\n",
            "Data saved to CSV.\n",
            "Data saved to CSV.\n",
            "Data saved to CSV.\n",
            "Data saved to CSV.\n",
            "Data saved to CSV.\n",
            "Data saved to CSV.\n",
            "Data saved to CSV.\n",
            "Data saved to CSV.\n",
            "Data saved to CSV.\n",
            "Data saved to CSV.\n",
            "Data saved to CSV.\n",
            "Data saved to CSV.\n",
            "Data saved to CSV.\n",
            "Data saved to CSV.\n",
            "Data saved to CSV.\n",
            "Data saved to CSV.\n"
          ]
        }
      ]
    },
    {
      "cell_type": "code",
      "source": [],
      "metadata": {
        "id": "_T_YVCZ0wiH_"
      },
      "execution_count": null,
      "outputs": []
    }
  ]
}