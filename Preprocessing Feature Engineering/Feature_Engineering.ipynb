{
  "nbformat": 4,
  "nbformat_minor": 0,
  "metadata": {
    "colab": {
      "provenance": []
    },
    "kernelspec": {
      "name": "python3",
      "display_name": "Python 3"
    },
    "language_info": {
      "name": "python"
    }
  },
  "cells": [
    {
      "cell_type": "code",
      "execution_count": null,
      "metadata": {
        "id": "HL9mRulp-UET"
      },
      "outputs": [],
      "source": [
        "import pandas as pd\n",
        "import numpy as np\n",
        "\n",
        "# Load dataset\n",
        "file_path = \"/content/cryptodata.csv\"  # Update with actual path\n",
        "df = pd.read_csv(file_path)\n",
        "\n",
        "# Convert Timestamp to datetime\n",
        "df['Timestamp'] = pd.to_datetime(df['Timestamp'], format='%d/%m/%Y')\n",
        "\n",
        "# Sort by Crypto and Timestamp to maintain sequence\n",
        "df = df.sort_values(by=['Crypto', 'Timestamp'])\n",
        "\n",
        "# **Lag Features** (Within Each Crypto Group)\n",
        "df['Close_Lag_1'] = df.groupby('Crypto')['Close'].shift(1)\n",
        "df['Close_Lag_2'] = df.groupby('Crypto')['Close'].shift(2)\n",
        "df['Close_Lag_3'] = df.groupby('Crypto')['Close'].shift(3)\n",
        "\n",
        "# **Rolling Statistics** (Standard Deviation over 7-day and 14-day windows)\n",
        "df['Rolling_Std_7'] = df.groupby('Crypto')['Close'].rolling(window=7).std().reset_index(0, drop=True)\n",
        "df['Rolling_Std_14'] = df.groupby('Crypto')['Close'].rolling(window=14).std().reset_index(0, drop=True)\n",
        "\n",
        "# **Exponential Moving Averages (EMA)**\n",
        "df['EMA_7'] = df.groupby('Crypto')['Close'].transform(lambda x: x.ewm(span=7, adjust=False).mean())\n",
        "df['EMA_14'] = df.groupby('Crypto')['Close'].transform(lambda x: x.ewm(span=14, adjust=False).mean())\n",
        "\n",
        "# **MACD Indicator** (Momentum Indicator)\n",
        "df['MACD'] = df['EMA_7'] - df['EMA_14']\n",
        "\n",
        "# **Time-Based Features**\n",
        "df['Day_of_Week'] = df['Timestamp'].dt.dayofweek  # Monday=0, Sunday=6\n",
        "df['Month'] = df['Timestamp'].dt.month\n",
        "df['Week_of_Year'] = df['Timestamp'].dt.isocalendar().week\n",
        "\n",
        "# Drop NaN values introduced by lag and rolling features\n",
        "df.dropna(inplace=True)\n",
        "\n",
        "# Save the processed dataset\n",
        "df.to_csv(\"processed_crypto_data_corrected.csv\", index=False)\n",
        "\n",
        "# Display final dataset preview\n",
        "print(df.head())"
      ]
    }
  ]
}