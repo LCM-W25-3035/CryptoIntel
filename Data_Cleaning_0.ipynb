{
  "nbformat": 4,
  "nbformat_minor": 0,
  "metadata": {
    "colab": {
      "provenance": []
    },
    "kernelspec": {
      "name": "python3",
      "display_name": "Python 3"
    },
    "language_info": {
      "name": "python"
    }
  },
  "cells": [
    {
      "cell_type": "code",
      "execution_count": 6,
      "metadata": {
        "id": "cJBLyR6XY3ka"
      },
      "outputs": [],
      "source": [
        "import pandas as pd\n",
        "\n",
        "# Load dataset\n",
        "file_path = \"/content/crypto_data main.csv\"\n",
        "df = pd.read_csv(file_path)\n",
        "\n",
        "# Convert Timestamp to datetime\n",
        "df['Timestamp'] = pd.to_datetime(df['Timestamp'])"
      ]
    },
    {
      "cell_type": "code",
      "source": [
        "# Remove duplicates (if any)\n",
        "df = df.drop_duplicates()"
      ],
      "metadata": {
        "id": "bK9zZmWoafRN"
      },
      "execution_count": 25,
      "outputs": []
    },
    {
      "cell_type": "code",
      "source": [
        "# Handle missing values (if any)\n",
        "df = df.dropna()"
      ],
      "metadata": {
        "id": "T8E9dbs9ajJz"
      },
      "execution_count": 30,
      "outputs": []
    },
    {
      "cell_type": "code",
      "source": [
        "# Ensure correct data types\n",
        "df['Open'] = df['Open'].astype(float)\n",
        "df['High'] = df['High'].astype(float)\n",
        "df['Low'] = df['Low'].astype(float)\n",
        "df['Close'] = df['Close'].astype(float)\n",
        "df['VWAP'] = df['VWAP'].astype(float)\n",
        "df['Volume'] = df['Volume'].astype(float)\n",
        "df['Count'] = df['Count'].astype(int)\n",
        "df['Crypto'] = df['Crypto'].astype(str)"
      ],
      "metadata": {
        "id": "e4ft7jS-amlV"
      },
      "execution_count": 9,
      "outputs": []
    },
    {
      "cell_type": "code",
      "source": [
        "# Sort by Timestamp\n",
        "df = df.sort_values(by='Timestamp')"
      ],
      "metadata": {
        "id": "clcryEDKavYR"
      },
      "execution_count": 10,
      "outputs": []
    },
    {
      "cell_type": "code",
      "source": [
        "# Save cleaned data\n",
        "df.to_csv(\"cleaned_crypto_data_main.csv\", index=False)\n",
        "\n",
        "print(\"Data cleaning Saved as 'cleaned_crypto_data_main.csv'\")"
      ],
      "metadata": {
        "colab": {
          "base_uri": "https://localhost:8080/"
        },
        "id": "TRdeqUAKaxUx",
        "outputId": "272e692f-ed62-4025-c294-d41bf974b3f8"
      },
      "execution_count": 11,
      "outputs": [
        {
          "output_type": "stream",
          "name": "stdout",
          "text": [
            "Data cleaning Saved as 'cleaned_crypto_data_main.csv'\n"
          ]
        }
      ]
    }
  ]
}