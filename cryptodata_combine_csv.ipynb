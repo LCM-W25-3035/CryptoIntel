{
  "nbformat": 4,
  "nbformat_minor": 0,
  "metadata": {
    "colab": {
      "provenance": []
    },
    "kernelspec": {
      "name": "python3",
      "display_name": "Python 3"
    },
    "language_info": {
      "name": "python"
    }
  },
  "cells": [
    {
      "cell_type": "code",
      "execution_count": 2,
      "metadata": {
        "colab": {
          "base_uri": "https://localhost:8080/"
        },
        "id": "CU9xt3xpxFvf",
        "outputId": "25157058-29cb-4ef0-e475-832362290062"
      },
      "outputs": [
        {
          "output_type": "stream",
          "name": "stdout",
          "text": [
            "Combined CSV file saved as: combined_crypto_data.csv\n"
          ]
        }
      ],
      "source": [
        "import os\n",
        "import pandas as pd\n",
        "\n",
        "# List of CSV file paths to combine\n",
        "file_paths = [\n",
        "    \"/content/crypto_3data.csv\",\n",
        "    \"/content/crypto_data.csv\",\n",
        "    \"/content/crypto_data1.csv\",\n",
        "    \"/content/crypto_data12.csv\",\n",
        "    \"/content/crypto_data2.csv\",\n",
        "    \"/content/crypto_data5.csv\",\n",
        "    \"/content/crypto_data6.csv\",\n",
        "    \"/content/crypto_data7.csv\",\n",
        "    \"/content/crypto_data8.csv\",\n",
        "    \"/content/crypto_data9.csv\",\n",
        "    \"/content/crypto_data_10.csv\",\n",
        "    \"/content/crypto_data_11.csv\",\n",
        "    \"/content/crypto_data_13.csv\",\n",
        "    \"/content/crypto_data 14.csv\",\n",
        "    \"/content/crypto_data_4.csv\"\n",
        "]\n",
        "\n",
        "# Combine all CSV files into one DataFrame\n",
        "combined_data = pd.concat([pd.read_csv(file) for file in file_paths], ignore_index=True)\n",
        "\n",
        "# Save the combined data to a new CSV file\n",
        "output_file = \"combined_crypto_data.csv\"\n",
        "combined_data.to_csv(output_file, index=False)\n",
        "\n",
        "print(f\"Combined CSV file saved as: {output_file}\")"
      ]
    }
  ]
}