{
  "nbformat": 4,
  "nbformat_minor": 0,
  "metadata": {
    "colab": {
      "provenance": []
    },
    "kernelspec": {
      "name": "python3",
      "display_name": "Python 3"
    },
    "language_info": {
      "name": "python"
    }
  },
  "cells": [
    {
      "cell_type": "code",
      "execution_count": 1,
      "metadata": {
        "id": "6mfU5tlzjxiu"
      },
      "outputs": [],
      "source": [
        "from pyspark.sql import SparkSession\n",
        "\n",
        "spark = SparkSession.builder \\\n",
        "    .appName(\"My Spark App\") \\\n",
        "    .getOrCreate()"
      ]
    },
    {
      "cell_type": "code",
      "source": [
        "import pandas as pd\n",
        "import matplotlib.pyplot as plt\n",
        "import seaborn as sns\n",
        "import numpy as np\n",
        "import io"
      ],
      "metadata": {
        "id": "acHtvQHBmAC7"
      },
      "execution_count": 2,
      "outputs": []
    },
    {
      "cell_type": "code",
      "source": [
        "# Load the dataset\n",
        "\n",
        "from google.colab import files\n",
        "uploaded = files.upload()"
      ],
      "metadata": {
        "colab": {
          "base_uri": "https://localhost:8080/",
          "height": 73
        },
        "id": "0HV8amXNmBmZ",
        "outputId": "134da61d-aba6-43b6-a7ad-1ce1a575ffaa"
      },
      "execution_count": 3,
      "outputs": [
        {
          "output_type": "display_data",
          "data": {
            "text/plain": [
              "<IPython.core.display.HTML object>"
            ],
            "text/html": [
              "\n",
              "     <input type=\"file\" id=\"files-82035337-91b0-4a01-893b-e686f6fe272a\" name=\"files[]\" multiple disabled\n",
              "        style=\"border:none\" />\n",
              "     <output id=\"result-82035337-91b0-4a01-893b-e686f6fe272a\">\n",
              "      Upload widget is only available when the cell has been executed in the\n",
              "      current browser session. Please rerun this cell to enable.\n",
              "      </output>\n",
              "      <script>// Copyright 2017 Google LLC\n",
              "//\n",
              "// Licensed under the Apache License, Version 2.0 (the \"License\");\n",
              "// you may not use this file except in compliance with the License.\n",
              "// You may obtain a copy of the License at\n",
              "//\n",
              "//      http://www.apache.org/licenses/LICENSE-2.0\n",
              "//\n",
              "// Unless required by applicable law or agreed to in writing, software\n",
              "// distributed under the License is distributed on an \"AS IS\" BASIS,\n",
              "// WITHOUT WARRANTIES OR CONDITIONS OF ANY KIND, either express or implied.\n",
              "// See the License for the specific language governing permissions and\n",
              "// limitations under the License.\n",
              "\n",
              "/**\n",
              " * @fileoverview Helpers for google.colab Python module.\n",
              " */\n",
              "(function(scope) {\n",
              "function span(text, styleAttributes = {}) {\n",
              "  const element = document.createElement('span');\n",
              "  element.textContent = text;\n",
              "  for (const key of Object.keys(styleAttributes)) {\n",
              "    element.style[key] = styleAttributes[key];\n",
              "  }\n",
              "  return element;\n",
              "}\n",
              "\n",
              "// Max number of bytes which will be uploaded at a time.\n",
              "const MAX_PAYLOAD_SIZE = 100 * 1024;\n",
              "\n",
              "function _uploadFiles(inputId, outputId) {\n",
              "  const steps = uploadFilesStep(inputId, outputId);\n",
              "  const outputElement = document.getElementById(outputId);\n",
              "  // Cache steps on the outputElement to make it available for the next call\n",
              "  // to uploadFilesContinue from Python.\n",
              "  outputElement.steps = steps;\n",
              "\n",
              "  return _uploadFilesContinue(outputId);\n",
              "}\n",
              "\n",
              "// This is roughly an async generator (not supported in the browser yet),\n",
              "// where there are multiple asynchronous steps and the Python side is going\n",
              "// to poll for completion of each step.\n",
              "// This uses a Promise to block the python side on completion of each step,\n",
              "// then passes the result of the previous step as the input to the next step.\n",
              "function _uploadFilesContinue(outputId) {\n",
              "  const outputElement = document.getElementById(outputId);\n",
              "  const steps = outputElement.steps;\n",
              "\n",
              "  const next = steps.next(outputElement.lastPromiseValue);\n",
              "  return Promise.resolve(next.value.promise).then((value) => {\n",
              "    // Cache the last promise value to make it available to the next\n",
              "    // step of the generator.\n",
              "    outputElement.lastPromiseValue = value;\n",
              "    return next.value.response;\n",
              "  });\n",
              "}\n",
              "\n",
              "/**\n",
              " * Generator function which is called between each async step of the upload\n",
              " * process.\n",
              " * @param {string} inputId Element ID of the input file picker element.\n",
              " * @param {string} outputId Element ID of the output display.\n",
              " * @return {!Iterable<!Object>} Iterable of next steps.\n",
              " */\n",
              "function* uploadFilesStep(inputId, outputId) {\n",
              "  const inputElement = document.getElementById(inputId);\n",
              "  inputElement.disabled = false;\n",
              "\n",
              "  const outputElement = document.getElementById(outputId);\n",
              "  outputElement.innerHTML = '';\n",
              "\n",
              "  const pickedPromise = new Promise((resolve) => {\n",
              "    inputElement.addEventListener('change', (e) => {\n",
              "      resolve(e.target.files);\n",
              "    });\n",
              "  });\n",
              "\n",
              "  const cancel = document.createElement('button');\n",
              "  inputElement.parentElement.appendChild(cancel);\n",
              "  cancel.textContent = 'Cancel upload';\n",
              "  const cancelPromise = new Promise((resolve) => {\n",
              "    cancel.onclick = () => {\n",
              "      resolve(null);\n",
              "    };\n",
              "  });\n",
              "\n",
              "  // Wait for the user to pick the files.\n",
              "  const files = yield {\n",
              "    promise: Promise.race([pickedPromise, cancelPromise]),\n",
              "    response: {\n",
              "      action: 'starting',\n",
              "    }\n",
              "  };\n",
              "\n",
              "  cancel.remove();\n",
              "\n",
              "  // Disable the input element since further picks are not allowed.\n",
              "  inputElement.disabled = true;\n",
              "\n",
              "  if (!files) {\n",
              "    return {\n",
              "      response: {\n",
              "        action: 'complete',\n",
              "      }\n",
              "    };\n",
              "  }\n",
              "\n",
              "  for (const file of files) {\n",
              "    const li = document.createElement('li');\n",
              "    li.append(span(file.name, {fontWeight: 'bold'}));\n",
              "    li.append(span(\n",
              "        `(${file.type || 'n/a'}) - ${file.size} bytes, ` +\n",
              "        `last modified: ${\n",
              "            file.lastModifiedDate ? file.lastModifiedDate.toLocaleDateString() :\n",
              "                                    'n/a'} - `));\n",
              "    const percent = span('0% done');\n",
              "    li.appendChild(percent);\n",
              "\n",
              "    outputElement.appendChild(li);\n",
              "\n",
              "    const fileDataPromise = new Promise((resolve) => {\n",
              "      const reader = new FileReader();\n",
              "      reader.onload = (e) => {\n",
              "        resolve(e.target.result);\n",
              "      };\n",
              "      reader.readAsArrayBuffer(file);\n",
              "    });\n",
              "    // Wait for the data to be ready.\n",
              "    let fileData = yield {\n",
              "      promise: fileDataPromise,\n",
              "      response: {\n",
              "        action: 'continue',\n",
              "      }\n",
              "    };\n",
              "\n",
              "    // Use a chunked sending to avoid message size limits. See b/62115660.\n",
              "    let position = 0;\n",
              "    do {\n",
              "      const length = Math.min(fileData.byteLength - position, MAX_PAYLOAD_SIZE);\n",
              "      const chunk = new Uint8Array(fileData, position, length);\n",
              "      position += length;\n",
              "\n",
              "      const base64 = btoa(String.fromCharCode.apply(null, chunk));\n",
              "      yield {\n",
              "        response: {\n",
              "          action: 'append',\n",
              "          file: file.name,\n",
              "          data: base64,\n",
              "        },\n",
              "      };\n",
              "\n",
              "      let percentDone = fileData.byteLength === 0 ?\n",
              "          100 :\n",
              "          Math.round((position / fileData.byteLength) * 100);\n",
              "      percent.textContent = `${percentDone}% done`;\n",
              "\n",
              "    } while (position < fileData.byteLength);\n",
              "  }\n",
              "\n",
              "  // All done.\n",
              "  yield {\n",
              "    response: {\n",
              "      action: 'complete',\n",
              "    }\n",
              "  };\n",
              "}\n",
              "\n",
              "scope.google = scope.google || {};\n",
              "scope.google.colab = scope.google.colab || {};\n",
              "scope.google.colab._files = {\n",
              "  _uploadFiles,\n",
              "  _uploadFilesContinue,\n",
              "};\n",
              "})(self);\n",
              "</script> "
            ]
          },
          "metadata": {}
        },
        {
          "output_type": "stream",
          "name": "stdout",
          "text": [
            "Saving processed_crypto_data.csv to processed_crypto_data.csv\n"
          ]
        }
      ]
    },
    {
      "cell_type": "code",
      "source": [],
      "metadata": {
        "id": "Wa49R2OmrbUC"
      },
      "execution_count": null,
      "outputs": []
    },
    {
      "cell_type": "code",
      "source": [
        " # Read the file into a pandas DataFrame\n",
        "df = pd.read_csv(\"processed_crypto_data.csv\")"
      ],
      "metadata": {
        "id": "NLhOPfz-qbDG"
      },
      "execution_count": 4,
      "outputs": []
    },
    {
      "cell_type": "code",
      "source": [
        "#Adding a Spread Column\n",
        "# to calculate the price spread for each pair\n",
        "\n",
        "df['Spread'] = df['High'] - df['Low']"
      ],
      "metadata": {
        "id": "0U7fYOh3mBqP"
      },
      "execution_count": 5,
      "outputs": []
    },
    {
      "cell_type": "code",
      "source": [
        "print(df.head())"
      ],
      "metadata": {
        "colab": {
          "base_uri": "https://localhost:8080/"
        },
        "id": "T0TauryzmBuG",
        "outputId": "5b917dca-f0aa-43a6-8a86-e52f9782a24f"
      },
      "execution_count": 6,
      "outputs": [
        {
          "output_type": "stream",
          "name": "stdout",
          "text": [
            "        Pair   High    Low  Last Price        Volume  \\\n",
            "0  Chainlink  22.15  20.11       21.76  2.528254e+05   \n",
            "1    Cardano   1.09   0.99        1.04  1.981526e+07   \n",
            "2    Polygon   0.49   0.45        0.48  9.776040e+05   \n",
            "3   Dogecoin   0.39   0.35        0.38  9.675374e+07   \n",
            "4     Ripple   3.20   2.68        3.05  1.274103e+08   \n",
            "\n",
            "                       Timestamp        Date  Spread  \n",
            "0  2025-01-16T00:21:20.000-05:00  2025-01-16    2.04  \n",
            "1  2025-01-16T00:38:24.000-05:00  2025-01-16    0.10  \n",
            "2  2025-01-16T00:56:28.000-05:00  2025-01-16    0.04  \n",
            "3  2025-01-16T01:02:29.000-05:00  2025-01-16    0.04  \n",
            "4  2025-01-16T01:05:29.000-05:00  2025-01-16    0.52  \n"
          ]
        }
      ]
    },
    {
      "cell_type": "code",
      "source": [
        "#Calculating the position of the Last Price within the range\n",
        "df['Position'] = (df['Last Price'] - df['Low']) / (df['High'] - df['Low'])\n"
      ],
      "metadata": {
        "id": "rDPCqIZ3mByC"
      },
      "execution_count": 7,
      "outputs": []
    },
    {
      "cell_type": "code",
      "source": [
        "print(df.head())"
      ],
      "metadata": {
        "colab": {
          "base_uri": "https://localhost:8080/"
        },
        "id": "zPJJ2Q2CmB1r",
        "outputId": "7320233b-5b43-4389-f8bb-2ee6f779b870"
      },
      "execution_count": 8,
      "outputs": [
        {
          "output_type": "stream",
          "name": "stdout",
          "text": [
            "        Pair   High    Low  Last Price        Volume  \\\n",
            "0  Chainlink  22.15  20.11       21.76  2.528254e+05   \n",
            "1    Cardano   1.09   0.99        1.04  1.981526e+07   \n",
            "2    Polygon   0.49   0.45        0.48  9.776040e+05   \n",
            "3   Dogecoin   0.39   0.35        0.38  9.675374e+07   \n",
            "4     Ripple   3.20   2.68        3.05  1.274103e+08   \n",
            "\n",
            "                       Timestamp        Date  Spread  Position  \n",
            "0  2025-01-16T00:21:20.000-05:00  2025-01-16    2.04  0.808824  \n",
            "1  2025-01-16T00:38:24.000-05:00  2025-01-16    0.10  0.500000  \n",
            "2  2025-01-16T00:56:28.000-05:00  2025-01-16    0.04  0.750000  \n",
            "3  2025-01-16T01:02:29.000-05:00  2025-01-16    0.04  0.750000  \n",
            "4  2025-01-16T01:05:29.000-05:00  2025-01-16    0.52  0.711538  \n"
          ]
        }
      ]
    },
    {
      "cell_type": "code",
      "source": [
        "#To Compute the percentage volatility of each cryptocurrency\n",
        "\n",
        "df['Volatility'] = ((df['High'] - df['Low']) / df['Low']) * 100\n"
      ],
      "metadata": {
        "id": "saXy0G-yu-bN"
      },
      "execution_count": 9,
      "outputs": []
    },
    {
      "cell_type": "code",
      "source": [
        "print(df.head())"
      ],
      "metadata": {
        "colab": {
          "base_uri": "https://localhost:8080/"
        },
        "id": "PbIqw77avWf8",
        "outputId": "aea70b88-74f9-487a-b873-c19429d61517"
      },
      "execution_count": 10,
      "outputs": [
        {
          "output_type": "stream",
          "name": "stdout",
          "text": [
            "        Pair   High    Low  Last Price        Volume  \\\n",
            "0  Chainlink  22.15  20.11       21.76  2.528254e+05   \n",
            "1    Cardano   1.09   0.99        1.04  1.981526e+07   \n",
            "2    Polygon   0.49   0.45        0.48  9.776040e+05   \n",
            "3   Dogecoin   0.39   0.35        0.38  9.675374e+07   \n",
            "4     Ripple   3.20   2.68        3.05  1.274103e+08   \n",
            "\n",
            "                       Timestamp        Date  Spread  Position  Volatility  \n",
            "0  2025-01-16T00:21:20.000-05:00  2025-01-16    2.04  0.808824   10.144207  \n",
            "1  2025-01-16T00:38:24.000-05:00  2025-01-16    0.10  0.500000   10.101010  \n",
            "2  2025-01-16T00:56:28.000-05:00  2025-01-16    0.04  0.750000    8.888889  \n",
            "3  2025-01-16T01:02:29.000-05:00  2025-01-16    0.04  0.750000   11.428571  \n",
            "4  2025-01-16T01:05:29.000-05:00  2025-01-16    0.52  0.711538   19.402985  \n"
          ]
        }
      ]
    },
    {
      "cell_type": "code",
      "source": [
        "#Extracting features like hour and minute from the Timestamp column\n",
        "\n",
        "# Convert 'Timestamp' column to datetime objects\n",
        "df['Timestamp'] = pd.to_datetime(df['Timestamp'])\n",
        "\n",
        "df['Hour'] = df['Timestamp'].dt.hour\n",
        "df['Minute'] = df['Timestamp'].dt.minute\n",
        "\n",
        "print(df.head())"
      ],
      "metadata": {
        "colab": {
          "base_uri": "https://localhost:8080/"
        },
        "id": "3uiLjXGMvWi0",
        "outputId": "e7fafafb-0064-4a95-d5e5-37cd7dfae73d"
      },
      "execution_count": 11,
      "outputs": [
        {
          "output_type": "stream",
          "name": "stdout",
          "text": [
            "        Pair   High    Low  Last Price        Volume  \\\n",
            "0  Chainlink  22.15  20.11       21.76  2.528254e+05   \n",
            "1    Cardano   1.09   0.99        1.04  1.981526e+07   \n",
            "2    Polygon   0.49   0.45        0.48  9.776040e+05   \n",
            "3   Dogecoin   0.39   0.35        0.38  9.675374e+07   \n",
            "4     Ripple   3.20   2.68        3.05  1.274103e+08   \n",
            "\n",
            "                  Timestamp        Date  Spread  Position  Volatility  Hour  \\\n",
            "0 2025-01-16 00:21:20-05:00  2025-01-16    2.04  0.808824   10.144207     0   \n",
            "1 2025-01-16 00:38:24-05:00  2025-01-16    0.10  0.500000   10.101010     0   \n",
            "2 2025-01-16 00:56:28-05:00  2025-01-16    0.04  0.750000    8.888889     0   \n",
            "3 2025-01-16 01:02:29-05:00  2025-01-16    0.04  0.750000   11.428571     1   \n",
            "4 2025-01-16 01:05:29-05:00  2025-01-16    0.52  0.711538   19.402985     1   \n",
            "\n",
            "   Minute  \n",
            "0      21  \n",
            "1      38  \n",
            "2      56  \n",
            "3       2  \n",
            "4       5  \n"
          ]
        }
      ]
    },
    {
      "cell_type": "code",
      "source": [
        "#Computing rolling averages for prices or volume over a time window:\n",
        "\n",
        "df['Rolling_Avg_Volume'] = df['Volume'].rolling(window=3).mean()\n",
        "\n",
        "print(df.head())"
      ],
      "metadata": {
        "colab": {
          "base_uri": "https://localhost:8080/"
        },
        "id": "ZXGPkgB8vWli",
        "outputId": "ec18a1fc-5e75-45fe-e0a9-8eab9c76e63f"
      },
      "execution_count": 12,
      "outputs": [
        {
          "output_type": "stream",
          "name": "stdout",
          "text": [
            "        Pair   High    Low  Last Price        Volume  \\\n",
            "0  Chainlink  22.15  20.11       21.76  2.528254e+05   \n",
            "1    Cardano   1.09   0.99        1.04  1.981526e+07   \n",
            "2    Polygon   0.49   0.45        0.48  9.776040e+05   \n",
            "3   Dogecoin   0.39   0.35        0.38  9.675374e+07   \n",
            "4     Ripple   3.20   2.68        3.05  1.274103e+08   \n",
            "\n",
            "                  Timestamp        Date  Spread  Position  Volatility  Hour  \\\n",
            "0 2025-01-16 00:21:20-05:00  2025-01-16    2.04  0.808824   10.144207     0   \n",
            "1 2025-01-16 00:38:24-05:00  2025-01-16    0.10  0.500000   10.101010     0   \n",
            "2 2025-01-16 00:56:28-05:00  2025-01-16    0.04  0.750000    8.888889     0   \n",
            "3 2025-01-16 01:02:29-05:00  2025-01-16    0.04  0.750000   11.428571     1   \n",
            "4 2025-01-16 01:05:29-05:00  2025-01-16    0.52  0.711538   19.402985     1   \n",
            "\n",
            "   Minute  Rolling_Avg_Volume  \n",
            "0      21                 NaN  \n",
            "1      38                 NaN  \n",
            "2      56        7.015231e+06  \n",
            "3       2        3.918220e+07  \n",
            "4       5        7.504721e+07  \n"
          ]
        }
      ]
    },
    {
      "cell_type": "code",
      "source": [
        "#Apply log transformation to the Volume column to reduce skewness\n",
        "\n",
        "df['Log_Volume'] = np.log1p(df['Volume'])\n",
        "\n",
        "print(df.head())"
      ],
      "metadata": {
        "colab": {
          "base_uri": "https://localhost:8080/"
        },
        "id": "9IRZLcauvWoP",
        "outputId": "d90e6f49-9623-43cc-b81a-2a0d7e32542d"
      },
      "execution_count": 13,
      "outputs": [
        {
          "output_type": "stream",
          "name": "stdout",
          "text": [
            "        Pair   High    Low  Last Price        Volume  \\\n",
            "0  Chainlink  22.15  20.11       21.76  2.528254e+05   \n",
            "1    Cardano   1.09   0.99        1.04  1.981526e+07   \n",
            "2    Polygon   0.49   0.45        0.48  9.776040e+05   \n",
            "3   Dogecoin   0.39   0.35        0.38  9.675374e+07   \n",
            "4     Ripple   3.20   2.68        3.05  1.274103e+08   \n",
            "\n",
            "                  Timestamp        Date  Spread  Position  Volatility  Hour  \\\n",
            "0 2025-01-16 00:21:20-05:00  2025-01-16    2.04  0.808824   10.144207     0   \n",
            "1 2025-01-16 00:38:24-05:00  2025-01-16    0.10  0.500000   10.101010     0   \n",
            "2 2025-01-16 00:56:28-05:00  2025-01-16    0.04  0.750000    8.888889     0   \n",
            "3 2025-01-16 01:02:29-05:00  2025-01-16    0.04  0.750000   11.428571     1   \n",
            "4 2025-01-16 01:05:29-05:00  2025-01-16    0.52  0.711538   19.402985     1   \n",
            "\n",
            "   Minute  Rolling_Avg_Volume  Log_Volume  \n",
            "0      21                 NaN   12.440458  \n",
            "1      38                 NaN   16.801963  \n",
            "2      56        7.015231e+06   13.792861  \n",
            "3       2        3.918220e+07   18.387680  \n",
            "4       5        7.504721e+07   18.662923  \n"
          ]
        }
      ]
    },
    {
      "cell_type": "code",
      "source": [
        "#Checking for missing values\n",
        "\n",
        "print(df.isnull().sum())"
      ],
      "metadata": {
        "colab": {
          "base_uri": "https://localhost:8080/"
        },
        "id": "aOpc_dbQvWqz",
        "outputId": "5a126175-6702-4095-f1d7-523727ba2543"
      },
      "execution_count": 14,
      "outputs": [
        {
          "output_type": "stream",
          "name": "stdout",
          "text": [
            "Pair                  0\n",
            "High                  0\n",
            "Low                   0\n",
            "Last Price            0\n",
            "Volume                0\n",
            "Timestamp             0\n",
            "Date                  0\n",
            "Spread                0\n",
            "Position              0\n",
            "Volatility            0\n",
            "Hour                  0\n",
            "Minute                0\n",
            "Rolling_Avg_Volume    2\n",
            "Log_Volume            0\n",
            "dtype: int64\n"
          ]
        }
      ]
    },
    {
      "cell_type": "code",
      "source": [
        "#dropping the coloumns with NaN values\n",
        "df = df.dropna(axis=1)"
      ],
      "metadata": {
        "id": "qC6ogUY0vWtP"
      },
      "execution_count": 15,
      "outputs": []
    },
    {
      "cell_type": "code",
      "source": [
        "print(df.isnull().sum())"
      ],
      "metadata": {
        "colab": {
          "base_uri": "https://localhost:8080/"
        },
        "id": "nDeUsaoKvWwn",
        "outputId": "61bdd16e-d03b-4576-ce1b-4d14dece864e"
      },
      "execution_count": 16,
      "outputs": [
        {
          "output_type": "stream",
          "name": "stdout",
          "text": [
            "Pair          0\n",
            "High          0\n",
            "Low           0\n",
            "Last Price    0\n",
            "Volume        0\n",
            "Timestamp     0\n",
            "Date          0\n",
            "Spread        0\n",
            "Position      0\n",
            "Volatility    0\n",
            "Hour          0\n",
            "Minute        0\n",
            "Log_Volume    0\n",
            "dtype: int64\n"
          ]
        }
      ]
    },
    {
      "cell_type": "code",
      "source": [
        "# Save to CSV\n",
        "df.to_csv('modified_crypto_data.csv', index=False)"
      ],
      "metadata": {
        "id": "96myVn4jEmle"
      },
      "execution_count": 17,
      "outputs": []
    },
    {
      "cell_type": "code",
      "source": [
        "from google.colab import files\n",
        "\n",
        "files.download('modified_crypto_data.csv')"
      ],
      "metadata": {
        "colab": {
          "base_uri": "https://localhost:8080/",
          "height": 17
        },
        "id": "m7AlYq3gCh93",
        "outputId": "49500dfe-51e8-46a7-8917-81f6fb13a39a"
      },
      "execution_count": 18,
      "outputs": [
        {
          "output_type": "display_data",
          "data": {
            "text/plain": [
              "<IPython.core.display.Javascript object>"
            ],
            "application/javascript": [
              "\n",
              "    async function download(id, filename, size) {\n",
              "      if (!google.colab.kernel.accessAllowed) {\n",
              "        return;\n",
              "      }\n",
              "      const div = document.createElement('div');\n",
              "      const label = document.createElement('label');\n",
              "      label.textContent = `Downloading \"${filename}\": `;\n",
              "      div.appendChild(label);\n",
              "      const progress = document.createElement('progress');\n",
              "      progress.max = size;\n",
              "      div.appendChild(progress);\n",
              "      document.body.appendChild(div);\n",
              "\n",
              "      const buffers = [];\n",
              "      let downloaded = 0;\n",
              "\n",
              "      const channel = await google.colab.kernel.comms.open(id);\n",
              "      // Send a message to notify the kernel that we're ready.\n",
              "      channel.send({})\n",
              "\n",
              "      for await (const message of channel.messages) {\n",
              "        // Send a message to notify the kernel that we're ready.\n",
              "        channel.send({})\n",
              "        if (message.buffers) {\n",
              "          for (const buffer of message.buffers) {\n",
              "            buffers.push(buffer);\n",
              "            downloaded += buffer.byteLength;\n",
              "            progress.value = downloaded;\n",
              "          }\n",
              "        }\n",
              "      }\n",
              "      const blob = new Blob(buffers, {type: 'application/binary'});\n",
              "      const a = document.createElement('a');\n",
              "      a.href = window.URL.createObjectURL(blob);\n",
              "      a.download = filename;\n",
              "      div.appendChild(a);\n",
              "      a.click();\n",
              "      div.remove();\n",
              "    }\n",
              "  "
            ]
          },
          "metadata": {}
        },
        {
          "output_type": "display_data",
          "data": {
            "text/plain": [
              "<IPython.core.display.Javascript object>"
            ],
            "application/javascript": [
              "download(\"download_5c489e06-da2d-4c1f-b329-58c1cb763bf5\", \"modified_crypto_data.csv\", 10125004)"
            ]
          },
          "metadata": {}
        }
      ]
    },
    {
      "cell_type": "code",
      "source": [],
      "metadata": {
        "id": "be0k7_rECiHm"
      },
      "execution_count": null,
      "outputs": []
    },
    {
      "cell_type": "code",
      "source": [],
      "metadata": {
        "id": "gfwlwpSXCiMH"
      },
      "execution_count": null,
      "outputs": []
    },
    {
      "cell_type": "code",
      "source": [],
      "metadata": {
        "id": "NIdAaVtGCiQa"
      },
      "execution_count": null,
      "outputs": []
    }
  ]
}